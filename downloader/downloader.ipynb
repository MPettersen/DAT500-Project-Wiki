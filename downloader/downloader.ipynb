{
 "cells": [
  {
   "cell_type": "code",
   "execution_count": 23,
   "metadata": {},
   "outputs": [],
   "source": [
    "import requests\n",
    "\n",
    "# Parsing HTML\n",
    "from bs4 import BeautifulSoup\n",
    "\n",
    "# File system management\n",
    "import os"
   ]
  },
  {
   "cell_type": "code",
   "execution_count": 24,
   "metadata": {},
   "outputs": [],
   "source": [
    "dump_timestamp = '20190220/'\n",
    "base_url = 'http://dumps.wikimedia.freemirror.org/enwiki/'\n",
    "dump_url = base_url + dump_timestamp"
   ]
  },
  {
   "cell_type": "code",
   "execution_count": 25,
   "metadata": {},
   "outputs": [],
   "source": [
    "# Retrieve the html\n",
    "dump_html = requests.get(dump_url).text\n",
    "\n",
    "# Convert to a soup\n",
    "soup_dump = BeautifulSoup(dump_html, 'html.parser')"
   ]
  },
  {
   "cell_type": "code",
   "execution_count": 26,
   "metadata": {},
   "outputs": [],
   "source": [
    "files = []\n",
    "\n",
    "# Search through all files\n",
    "for file in soup_dump.find_all('li', {'class': 'file'}):\n",
    "    text = file.text\n",
    "    # Select the relevant files\n",
    "    if 'pages-articles' in text:\n",
    "        files.append((text.split()[0], text.split()[1:]))\n",
    "\n",
    "files_to_download = [file[0] for file in files if '.xml-p' in file [0] and 'multistream' in file[0]]\n"
   ]
  },
  {
   "cell_type": "code",
   "execution_count": 28,
   "metadata": {},
   "outputs": [],
   "source": [
    "files_to_download[:5]\n",
    "files_to_download = files_to_download[:2]"
   ]
  },
  {
   "cell_type": "code",
   "execution_count": 29,
   "metadata": {},
   "outputs": [
    {
     "name": "stdout",
     "output_type": "stream",
     "text": [
      "Downloading enwiki-20190220-pages-articles-multistream1.xml-p10p30302.bz2\n",
      "1 of 2 files downloaded\n",
      "Downloading enwiki-20190220-pages-articles-multistream2.xml-p30304p88444.bz2\n",
      "2 of 2 files downloaded\n"
     ]
    }
   ],
   "source": [
    "\n",
    "#Remember to define this yourself\n",
    "# output_folder = 'C:/data/'\n",
    "\n",
    "import wget\n",
    "\n",
    "for i,file in enumerate(files_to_download):\n",
    "    print('Downloading ' + file) \n",
    "    wget.download (dump_url + file, out = output_folder + file)  \n",
    "    print (str(i + 1) + ' of ' + str(len(files_to_download)) + \" files downloaded\")\n",
    "  "
   ]
  },
  {
   "cell_type": "code",
   "execution_count": null,
   "metadata": {},
   "outputs": [],
   "source": []
  }
 ],
 "metadata": {
  "kernelspec": {
   "display_name": "Python 3",
   "language": "python",
   "name": "python3"
  },
  "language_info": {
   "codemirror_mode": {
    "name": "ipython",
    "version": 3
   },
   "file_extension": ".py",
   "mimetype": "text/x-python",
   "name": "python",
   "nbconvert_exporter": "python",
   "pygments_lexer": "ipython3",
   "version": "3.7.0"
  }
 },
 "nbformat": 4,
 "nbformat_minor": 2
}
