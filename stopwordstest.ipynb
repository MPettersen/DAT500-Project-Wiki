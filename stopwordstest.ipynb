{
 "cells": [
  {
   "cell_type": "code",
   "execution_count": 1,
   "metadata": {},
   "outputs": [
    {
     "name": "stderr",
     "output_type": "stream",
     "text": [
      "[nltk_data] Downloading package stopwords to\n",
      "[nltk_data]     C:\\Users\\marku\\AppData\\Roaming\\nltk_data...\n",
      "[nltk_data]   Package stopwords is already up-to-date!\n",
      "[nltk_data] Downloading package punkt to\n",
      "[nltk_data]     C:\\Users\\marku\\AppData\\Roaming\\nltk_data...\n",
      "[nltk_data]   Package punkt is already up-to-date!\n"
     ]
    },
    {
     "data": {
      "text/plain": [
       "True"
      ]
     },
     "execution_count": 1,
     "metadata": {},
     "output_type": "execute_result"
    }
   ],
   "source": [
    "import nltk\n",
    "nltk.download('stopwords')\n",
    "nltk.download('punkt')\n",
    "  "
   ]
  },
  {
   "cell_type": "code",
   "execution_count": 2,
   "metadata": {},
   "outputs": [],
   "source": [
    "from nltk.tokenize import sent_tokenize, word_tokenize\n",
    "from nltk.corpus import stopwords"
   ]
  },
  {
   "cell_type": "code",
   "execution_count": 18,
   "metadata": {},
   "outputs": [],
   "source": [
    "data = \"All work and no play makes jack dull boy. All work and no play makes jack a dull boy.\"\n",
    "stop_words = set(stopwords.words('english'))\n",
    "words = word_tokenize(data)\n",
    "punctuations = set(['.', ',', ';', ':', '?', '!', '#', '\\\\', '/', '\"', '\\'', '\\'\\'', '´´', '´', '``', '`'])\n",
    "wordsFiltered = []\n",
    " \n",
    "for w in words:\n",
    "    if w not in stop_words:\n",
    "        wordsFiltered.append(w)\n",
    "\n",
    "# wordsFiltered\n",
    "\n",
    "# words"
   ]
  },
  {
   "cell_type": "code",
   "execution_count": 9,
   "metadata": {},
   "outputs": [
    {
     "data": {
      "text/plain": [
       "'Anarchism is an anti-authoritarian political philosophy that advocates self-governed societies based on voluntary, cooperative institutions and the rejection of hierarchies those societies view as unjust. These institutions are often described as stateless societies,:\"In a society developed on these lines, the voluntary associations which already now begin to cover all the fields of human activity would take a still greater extension so as to substitute themselves for the state in all its functions.\" although several authors have defined them more specifically as distinct institutions based on non-hierarchical or free associations. Anarchism holds capitalism, the state, and representative democracy to be undesirable, unnecessary, and harmful.\\r\\n\\r\\nWhile opposition to the state is central,: \"Anarchists do reject the state, as we will see. But to claim that this central aspect of anarchism is definitive is to sell anarchism short.'"
      ]
     },
     "execution_count": 9,
     "metadata": {},
     "output_type": "execute_result"
    }
   ],
   "source": [
    "text = 'Anarchism is an anti-authoritarian political philosophy that advocates self-governed societies based on voluntary, cooperative institutions and the rejection of hierarchies those societies view as unjust. These institutions are often described as stateless societies,:\"In a society developed on these lines, the voluntary associations which already now begin to cover all the fields of human activity would take a still greater extension so as to substitute themselves for the state in all its functions.\" although several authors have defined them more specifically as distinct institutions based on non-hierarchical or free associations. Anarchism holds capitalism, the state, and representative democracy to be undesirable, unnecessary, and harmful.\\r\\n\\r\\nWhile opposition to the state is central,: \"Anarchists do reject the state, as we will see. But to claim that this central aspect of anarchism is definitive is to sell anarchism short.'\n",
    "text"
   ]
  },
  {
   "cell_type": "code",
   "execution_count": 20,
   "metadata": {},
   "outputs": [],
   "source": [
    "punctuations = set(['.', ',', ';', ':', '?', '!', '#', '\\\\', '/', '\"', '\\'', '\\'\\'', '´´', '´', '``', '`'])\n",
    "stop_words = set(stopwords.words('english'))\n",
    "filters = punctuations.union(stop_words)"
   ]
  },
  {
   "cell_type": "code",
   "execution_count": 33,
   "metadata": {},
   "outputs": [
    {
     "name": "stdout",
     "output_type": "stream",
     "text": [
      "21.1 µs ± 676 ns per loop (mean ± std. dev. of 7 runs, 10000 loops each)\n",
      "16.5 µs ± 263 ns per loop (mean ± std. dev. of 7 runs, 100000 loops each)\n"
     ]
    }
   ],
   "source": [
    "words = word_tokenize(text)\n",
    "def test1():\n",
    "    res = filter(lambda word: word not in filters, words)\n",
    "    [word for word in res]\n",
    "def test2():\n",
    "    filtered = []\n",
    "    for word in words:\n",
    "        if word not in stop_words and word not in punctuations:\n",
    "            filtered.append(word)\n",
    "\n",
    "%timeit test1()\n",
    "%timeit test2()"
   ]
  },
  {
   "cell_type": "code",
   "execution_count": 19,
   "metadata": {},
   "outputs": [
    {
     "data": {
      "text/plain": [
       "['Anarchism',\n",
       " 'anti-authoritarian',\n",
       " 'political',\n",
       " 'philosophy',\n",
       " 'advocates',\n",
       " 'self-governed',\n",
       " 'societies',\n",
       " 'based',\n",
       " 'voluntary',\n",
       " 'cooperative',\n",
       " 'institutions',\n",
       " 'rejection',\n",
       " 'hierarchies',\n",
       " 'societies',\n",
       " 'view',\n",
       " 'unjust',\n",
       " 'These',\n",
       " 'institutions',\n",
       " 'often',\n",
       " 'described',\n",
       " 'stateless',\n",
       " 'societies',\n",
       " 'In',\n",
       " 'society',\n",
       " 'developed',\n",
       " 'lines',\n",
       " 'voluntary',\n",
       " 'associations',\n",
       " 'already',\n",
       " 'begin',\n",
       " 'cover',\n",
       " 'fields',\n",
       " 'human',\n",
       " 'activity',\n",
       " 'would',\n",
       " 'take',\n",
       " 'still',\n",
       " 'greater',\n",
       " 'extension',\n",
       " 'substitute',\n",
       " 'state',\n",
       " 'functions',\n",
       " 'although',\n",
       " 'several',\n",
       " 'authors',\n",
       " 'defined',\n",
       " 'specifically',\n",
       " 'distinct',\n",
       " 'institutions',\n",
       " 'based',\n",
       " 'non-hierarchical',\n",
       " 'free',\n",
       " 'associations',\n",
       " 'Anarchism',\n",
       " 'holds',\n",
       " 'capitalism',\n",
       " 'state',\n",
       " 'representative',\n",
       " 'democracy',\n",
       " 'undesirable',\n",
       " 'unnecessary',\n",
       " 'harmful',\n",
       " 'While',\n",
       " 'opposition',\n",
       " 'state',\n",
       " 'central',\n",
       " 'Anarchists',\n",
       " 'reject',\n",
       " 'state',\n",
       " 'see',\n",
       " 'But',\n",
       " 'claim',\n",
       " 'central',\n",
       " 'aspect',\n",
       " 'anarchism',\n",
       " 'definitive',\n",
       " 'sell',\n",
       " 'anarchism',\n",
       " 'short']"
      ]
     },
     "execution_count": 19,
     "metadata": {},
     "output_type": "execute_result"
    }
   ],
   "source": [
    "words = word_tokenize(text)\n",
    "words\n",
    "filtered = []\n",
    "for word in words:\n",
    "    if word not in stop_words and word not in punctuations:\n",
    "        filtered.append(word)\n",
    "filtered"
   ]
  }
 ],
 "metadata": {
  "kernelspec": {
   "display_name": "Python 3",
   "language": "python",
   "name": "python3"
  },
  "language_info": {
   "codemirror_mode": {
    "name": "ipython",
    "version": 3
   },
   "file_extension": ".py",
   "mimetype": "text/x-python",
   "name": "python",
   "nbconvert_exporter": "python",
   "pygments_lexer": "ipython3",
   "version": "3.7.1"
  }
 },
 "nbformat": 4,
 "nbformat_minor": 2
}
