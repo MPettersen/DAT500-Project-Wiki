{
 "cells": [
  {
   "cell_type": "code",
   "execution_count": 2,
   "metadata": {},
   "outputs": [],
   "source": [
    "import numpy as np\n",
    "import pandas as pd\n",
    "import bz2\n",
    "import xml.sax\n",
    "import mwparserfromhell\n",
    "import os\n",
    "import json\n",
    "from time import time\n",
    "from itertools import chain\n",
    "from multiprocessing import Pool\n",
    "from multiprocessing.dummy import Pool as Threadpool"
   ]
  },
  {
   "cell_type": "markdown",
   "metadata": {},
   "source": [
    "# Content handler for the XML parser"
   ]
  },
  {
   "cell_type": "code",
   "execution_count": 3,
   "metadata": {},
   "outputs": [],
   "source": [
    "class WikiXMLHandler(xml.sax.handler.ContentHandler):\n",
    "    \"\"\"Content handler for Wiki XML data using SAX\"\"\"\n",
    "    def __init__(self):\n",
    "        xml.sax.handler.ContentHandler.__init__(self)\n",
    "        self._buffer = None\n",
    "        self._values = {}\n",
    "        self._current_tag = None\n",
    "        self._previous_tag = None\n",
    "        self._pages = []\n",
    "        \n",
    "        \n",
    "    def characters(self, content):\n",
    "        \"\"\"Characters between opening and closing tags\"\"\"\n",
    "        if self._current_tag:\n",
    "            self._buffer.append(content)\n",
    "            \n",
    "            \n",
    "    def startElement(self, name, attrs):\n",
    "        \"\"\"Opening tag of element\"\"\"\n",
    "        if name in ('id', 'title', 'text'):\n",
    "            self._previous_tag = self._current_tag\n",
    "            self._current_tag = name\n",
    "            self._buffer = []\n",
    "            \n",
    "        \n",
    "    def endElement(self, name):\n",
    "        \"\"\"Closing tag of element\"\"\"\n",
    "        if name == self._current_tag:\n",
    "            if name == 'text':\n",
    "                self._process_page()\n",
    "            elif name == 'id' and self._previous_tag == 'id':\n",
    "                pass\n",
    "            else:\n",
    "                self._values[name] = ' '.join(self._buffer)\n",
    "        if name == 'page':\n",
    "            if not self._redirect():\n",
    "                self._pages.append((self._values['id'],\n",
    "                                    self._values['title'],\n",
    "                                    self._values['text'],\n",
    "                                    self._values['wikilinks'],\n",
    "                                    self._values['extlinks']))\n",
    "                self._page_count = len(self._pages)\n",
    "    \n",
    "    \n",
    "    def _redirect(self):\n",
    "        wiki = mwparserfromhell.parse(self._values['text'])\n",
    "        text = wiki.strip_code().split()\n",
    "        if len(text) == 0:\n",
    "            return False\n",
    "        return text[0] == 'REDIRECT'\n",
    "    \n",
    "    \n",
    "    def _process_page(self):\n",
    "        content = mwparserfromhell.parse(self._buffer)\n",
    "        content = content.strip_code().strip()\n",
    "        content = mwparserfromhell.parse(content)\n",
    "        self._values['text'] = content.strip_code().strip()\n",
    "        self._values['wikilinks'] = [x.title.strip_code() for x in content.filter_wikilinks()]\n",
    "        self._values['extlinks'] = [x.url.strip_code().strip() for x in content.filter_external_links()]"
   ]
  },
  {
   "cell_type": "markdown",
   "metadata": {},
   "source": [
    "# Preprocessing"
   ]
  },
  {
   "cell_type": "code",
   "execution_count": 2,
   "metadata": {},
   "outputs": [
    {
     "data": {
      "text/plain": [
       "(56,\n",
       " 'C:/data/enwiki-20190220-pages-articles-multistream9.xml-p1791081p2336422.bz2')"
      ]
     },
     "execution_count": 2,
     "metadata": {},
     "output_type": "execute_result"
    }
   ],
   "source": [
    "data_folder = 'C:/data/'\n",
    "partitions = [data_folder + file for file in os.listdir(data_folder) if 'xml-p']\n",
    "len(partitions), partitions[-1]"
   ]
  },
  {
   "cell_type": "code",
   "execution_count": 9,
   "metadata": {},
   "outputs": [],
   "source": [
    "def preprocess_pages(data_path, save=True):\n",
    "    \"\"\"Finds and cleans all pages from a compressed wikipedia XML file\"\"\"\n",
    "    start = time()\n",
    "    # Object for handling xml\n",
    "    handler = WikiXMLHandler()\n",
    "\n",
    "    # Parsing object\n",
    "    parser = xml.sax.make_parser()\n",
    "    parser.setContentHandler(handler)\n",
    "\n",
    "    # Iteratively process file\n",
    "#     i = 0\n",
    "    for line in bz2.BZ2File(data_path, 'r'):\n",
    "#         i += 1\n",
    "#         if i % 1e+5 == 0: print(handler._page_count)\n",
    "        try:\n",
    "            parser.feed(line)\n",
    "        except StopIteration:\n",
    "            break\n",
    "\n",
    "    if save:\n",
    "        # Save all books to a file based on the data path name\n",
    "        pass\n",
    "    \n",
    "    end = time()\n",
    "    print(f'\\n{data_path} preprocessed in {round(end-start)} seconds')\n",
    "    print(f'{handler._page_count} pages found in {data_path}')\n",
    "    return handler._pages"
   ]
  },
  {
   "cell_type": "code",
   "execution_count": null,
   "metadata": {},
   "outputs": [],
   "source": [
    "start = time()\n",
    "# Create a pool of workers to execute processes\n",
    "pool = Pool(processes = 4)\n",
    "\n",
    "# Map (service, task), applies function to each partition \n",
    "results = pool.map(preprocess_pages, partitions)\n",
    "\n",
    "pool.close()\n",
    "pool.join()\n",
    "end = time()\n",
    "print(f'\\nWhole dump preprocessed in {round(end-start)} seconds')"
   ]
  },
  {
   "cell_type": "markdown",
   "metadata": {},
   "source": [
    "# Testing"
   ]
  },
  {
   "cell_type": "code",
   "execution_count": 4,
   "metadata": {},
   "outputs": [],
   "source": [
    "wiki_dump = 'data/enwiki-20190220-pages-articles-multistream1.xml-p10p30302.bz2'\n",
    "wiki_dump = 'C:/data/enwiki-20190220-pages-articles-multistream1.xml-p10p30302.bz2'"
   ]
  },
  {
   "cell_type": "code",
   "execution_count": 6,
   "metadata": {},
   "outputs": [
    {
     "name": "stdout",
     "output_type": "stream",
     "text": [
      "\n",
      "Searched through 10 pages\n",
      "\n",
      "In 2 seconds\n"
     ]
    }
   ],
   "source": [
    "# Object for handling xml\n",
    "handler = WikiXMLHandler()\n",
    "# Parsing object\n",
    "parser = xml.sax.make_parser()\n",
    "parser.setContentHandler(handler)\n",
    "start = time()\n",
    "# Parse the entire file\n",
    "i = 0\n",
    "for line in bz2.BZ2File(wiki_dump):\n",
    "    try:\n",
    "        parser.feed(line)\n",
    "    except StopIteration:\n",
    "        break\n",
    "    i += 1\n",
    "    if i > 1e+4: break\n",
    "end = time()\n",
    "\n",
    "print(f'\\nSearched through {handler._page_count} pages')\n",
    "print(f'\\nIn {round(end-start)} seconds')"
   ]
  },
  {
   "cell_type": "code",
   "execution_count": 7,
   "metadata": {},
   "outputs": [
    {
     "name": "stdout",
     "output_type": "stream",
     "text": [
      "<class 'tuple'> 5\n"
     ]
    },
    {
     "data": {
      "text/plain": [
       "(str, str, str, list, list)"
      ]
     },
     "execution_count": 7,
     "metadata": {},
     "output_type": "execute_result"
    }
   ],
   "source": [
    "a = handler._pages[8]\n",
    "print(type(a), len(a))\n",
    "type(a[0]), type(a[1]), type(a[2]), type(a[3]), type(a[4])"
   ]
  },
  {
   "cell_type": "code",
   "execution_count": 69,
   "metadata": {},
   "outputs": [
    {
     "data": {
      "text/html": [
       "<div>\n",
       "<style scoped>\n",
       "    .dataframe tbody tr th:only-of-type {\n",
       "        vertical-align: middle;\n",
       "    }\n",
       "\n",
       "    .dataframe tbody tr th {\n",
       "        vertical-align: top;\n",
       "    }\n",
       "\n",
       "    .dataframe thead th {\n",
       "        text-align: right;\n",
       "    }\n",
       "</style>\n",
       "<table border=\"1\" class=\"dataframe\">\n",
       "  <thead>\n",
       "    <tr style=\"text-align: right;\">\n",
       "      <th></th>\n",
       "      <th>id</th>\n",
       "      <th>title</th>\n",
       "      <th>text</th>\n",
       "      <th>wikilinks</th>\n",
       "      <th>extlinks</th>\n",
       "    </tr>\n",
       "  </thead>\n",
       "  <tbody>\n",
       "    <tr>\n",
       "      <th>0</th>\n",
       "      <td>309</td>\n",
       "      <td>An American in Paris</td>\n",
       "      <td>Themes from An American in Paris\\r\\nAn America...</td>\n",
       "      <td>[University of Michigan School of Music, Theat...</td>\n",
       "      <td>[http://www.kennedy-center.org/calendar/?fusea...</td>\n",
       "    </tr>\n",
       "  </tbody>\n",
       "</table>\n",
       "</div>"
      ],
      "text/plain": [
       "    id                 title  \\\n",
       "0  309  An American in Paris   \n",
       "\n",
       "                                                text  \\\n",
       "0  Themes from An American in Paris\\r\\nAn America...   \n",
       "\n",
       "                                           wikilinks  \\\n",
       "0  [University of Michigan School of Music, Theat...   \n",
       "\n",
       "                                            extlinks  \n",
       "0  [http://www.kennedy-center.org/calendar/?fusea...  "
      ]
     },
     "execution_count": 69,
     "metadata": {},
     "output_type": "execute_result"
    }
   ],
   "source": [
    "b = {\n",
    "    'id': a[0],\n",
    "    'title': a[1],\n",
    "    'text': a[2],\n",
    "    'wikilinks': [a[3]],\n",
    "    'extlinks': [a[4]]\n",
    "}\n",
    "b\n",
    "c = pd.DataFrame(b)\n",
    "d = c.to_csv('test.csv', sep='\\t', index=False)\n",
    "e = pd.read_csv('test.csv', delimiter='\\t', \n",
    "                converters={'wikilinks': lambda x: x.strip('[]\\'').split(', '),\n",
    "                            'extlinks': lambda x: x.strip('[]\\'').split(', ')})\n",
    "type(e['wikilinks'])\n",
    "e['wikilinks'][0][1]\n",
    "# type(b['wikilinks'])\n",
    "e"
   ]
  },
  {
   "cell_type": "code",
   "execution_count": 32,
   "metadata": {},
   "outputs": [
    {
     "data": {
      "text/plain": [
       "list"
      ]
     },
     "execution_count": 32,
     "metadata": {},
     "output_type": "execute_result"
    }
   ],
   "source": [
    "[a[0], a[1], a[2], a[3], a[4]]\n",
    "c = pd.Series([[a[0], a[1], a[2], a[3], a[4]]])\n",
    "type(c[0][3])"
   ]
  },
  {
   "cell_type": "code",
   "execution_count": 15,
   "metadata": {},
   "outputs": [
    {
     "name": "stdout",
     "output_type": "stream",
     "text": [
      "b'<mediawiki xmlns=\"http://www.mediawiki.org/xml/export-0.10/\" xmlns:xsi=\"http://www.w3.org/2001/XMLSchema-instance\" xsi:schemaLocation=\"http://www.mediawiki.org/xml/export-0.10/ http://www.mediawiki.org/xml/export-0.10.xsd\" version=\"0.10\" xml:lang=\"en\">\\n'\n",
      "b'  <siteinfo>\\n'\n",
      "b'    <sitename>Wikipedia</sitename>\\n'\n",
      "b'    <dbname>enwiki</dbname>\\n'\n",
      "b'    <base>https://en.wikipedia.org/wiki/Main_Page</base>\\n'\n",
      "b'    <generator>MediaWiki 1.33.0-wmf.17</generator>\\n'\n",
      "b'    <case>first-letter</case>\\n'\n",
      "b'    <namespaces>\\n'\n",
      "b'      <namespace key=\"-2\" case=\"first-letter\">Media</namespace>\\n'\n",
      "b'      <namespace key=\"-1\" case=\"first-letter\">Special</namespace>\\n'\n",
      "b'      <namespace key=\"0\" case=\"first-letter\" />\\n'\n",
      "b'      <namespace key=\"1\" case=\"first-letter\">Talk</namespace>\\n'\n",
      "b'      <namespace key=\"2\" case=\"first-letter\">User</namespace>\\n'\n",
      "b'      <namespace key=\"3\" case=\"first-letter\">User talk</namespace>\\n'\n",
      "b'      <namespace key=\"4\" case=\"first-letter\">Wikipedia</namespace>\\n'\n",
      "b'      <namespace key=\"5\" case=\"first-letter\">Wikipedia talk</namespace>\\n'\n",
      "b'      <namespace key=\"6\" case=\"first-letter\">File</namespace>\\n'\n",
      "b'      <namespace key=\"7\" case=\"first-letter\">File talk</namespace>\\n'\n",
      "b'      <namespace key=\"8\" case=\"first-letter\">MediaWiki</namespace>\\n'\n",
      "b'      <namespace key=\"9\" case=\"first-letter\">MediaWiki talk</namespace>\\n'\n",
      "b'      <namespace key=\"10\" case=\"first-letter\">Template</namespace>\\n'\n",
      "b'      <namespace key=\"11\" case=\"first-letter\">Template talk</namespace>\\n'\n",
      "b'      <namespace key=\"12\" case=\"first-letter\">Help</namespace>\\n'\n",
      "b'      <namespace key=\"13\" case=\"first-letter\">Help talk</namespace>\\n'\n",
      "b'      <namespace key=\"14\" case=\"first-letter\">Category</namespace>\\n'\n",
      "b'      <namespace key=\"15\" case=\"first-letter\">Category talk</namespace>\\n'\n",
      "b'      <namespace key=\"100\" case=\"first-letter\">Portal</namespace>\\n'\n",
      "b'      <namespace key=\"101\" case=\"first-letter\">Portal talk</namespace>\\n'\n",
      "b'      <namespace key=\"108\" case=\"first-letter\">Book</namespace>\\n'\n",
      "b'      <namespace key=\"109\" case=\"first-letter\">Book talk</namespace>\\n'\n",
      "b'      <namespace key=\"118\" case=\"first-letter\">Draft</namespace>\\n'\n",
      "b'      <namespace key=\"119\" case=\"first-letter\">Draft talk</namespace>\\n'\n",
      "b'      <namespace key=\"446\" case=\"first-letter\">Education Program</namespace>\\n'\n",
      "b'      <namespace key=\"447\" case=\"first-letter\">Education Program talk</namespace>\\n'\n",
      "b'      <namespace key=\"710\" case=\"first-letter\">TimedText</namespace>\\n'\n",
      "b'      <namespace key=\"711\" case=\"first-letter\">TimedText talk</namespace>\\n'\n",
      "b'      <namespace key=\"828\" case=\"first-letter\">Module</namespace>\\n'\n",
      "b'      <namespace key=\"829\" case=\"first-letter\">Module talk</namespace>\\n'\n",
      "b'      <namespace key=\"2300\" case=\"first-letter\">Gadget</namespace>\\n'\n",
      "b'      <namespace key=\"2301\" case=\"first-letter\">Gadget talk</namespace>\\n'\n",
      "b'      <namespace key=\"2302\" case=\"case-sensitive\">Gadget definition</namespace>\\n'\n",
      "b'      <namespace key=\"2303\" case=\"case-sensitive\">Gadget definition talk</namespace>\\n'\n",
      "b'    </namespaces>\\n'\n",
      "b'  </siteinfo>\\n'\n",
      "b'  <page>\\n'\n",
      "b'    <title>AccessibleComputing</title>\\n'\n",
      "b'    <ns>0</ns>\\n'\n",
      "b'    <id>10</id>\\n'\n",
      "b'    <redirect title=\"Computer accessibility\" />\\n'\n",
      "b'    <revision>\\n'\n",
      "b'      <id>854851586</id>\\n'\n",
      "b'      <parentid>834079434</parentid>\\n'\n",
      "b'      <timestamp>2018-08-14T06:47:24Z</timestamp>\\n'\n",
      "b'      <contributor>\\n'\n",
      "b'        <username>Godsy</username>\\n'\n",
      "b'        <id>23257138</id>\\n'\n",
      "b'      </contributor>\\n'\n",
      "b'      <comment>remove from category for seeking instructions on rcats</comment>\\n'\n",
      "b'      <model>wikitext</model>\\n'\n",
      "b'      <format>text/x-wiki</format>\\n'\n",
      "b'      <text xml:space=\"preserve\">#REDIRECT [[Computer accessibility]]\\n'\n",
      "b'\\n'\n",
      "b'{{R from move}}\\n'\n",
      "b'{{R from CamelCase}}\\n'\n",
      "b'{{R unprintworthy}}</text>\\n'\n",
      "b'      <sha1>42l0cvblwtb4nnupxm6wo000d27t6kf</sha1>\\n'\n",
      "b'    </revision>\\n'\n",
      "b'  </page>\\n'\n",
      "b'  <page>\\n'\n",
      "b'    <title>Anarchism</title>\\n'\n",
      "b'    <ns>0</ns>\\n'\n",
      "b'    <id>12</id>\\n'\n",
      "b'    <revision>\\n'\n",
      "b'      <id>883800933</id>\\n'\n",
      "b'      <parentid>883786882</parentid>\\n'\n",
      "b'      <timestamp>2019-02-17T18:39:34Z</timestamp>\\n'\n",
      "b'      <contributor>\\n'\n",
      "b'        <ip>95.234.153.248</ip>\\n'\n",
      "b'      </contributor>\\n'\n",
      "b'      <comment>/* Criticisms */</comment>\\n'\n",
      "b'      <model>wikitext</model>\\n'\n",
      "b'      <format>text/x-wiki</format>\\n'\n",
      "b'      <text xml:space=\"preserve\">{{redirect2|Anarchist|Anarchists|the fictional character|Anarchist (comics)|other uses|Anarchists (disambiguation)}}\\n'\n",
      "b'{{pp-move-indef}}\\n'\n",
      "b'{{short description|Political philosophy that advocates self-governed societies}}\\n'\n",
      "b'{{Use dmy dates|date=July 2018}}\\n'\n",
      "b'{{use British English|date=January 2014}}\\n'\n",
      "b'{{Anarchism sidebar}}\\n'\n",
      "b'{{Basic forms of government}}\\n'\n",
      "b\"'''Anarchism''' is an [[anti-authoritarian]] [[political philosophy]]{{sfn|McLaughlin|2007|p=59}}{{sfn|Flint|2009|p=27}} that advocates [[Self-governance|self-governed]] societies based on voluntary, [[cooperative]] institutions and the rejection of [[Hierarchy|hierarchies]] those societies view as unjust. These institutions are often described as [[Stateless society|stateless societies]],{{sfn|Woodcock|ps=:ANARCHISM, a social philosophy that rejects authoritarian government and maintains that voluntary institutions are best suited to express man's natural social tendencies}}&lt;ref&gt;{{harvnb|Kropotkin|1910}}:''&quot;In a society developed on these lines, the voluntary associations which already now begin to cover all the fields of human activity would take a still greater extension so as to substitute themselves for the state in all its functions.&quot;''&lt;/ref&gt;{{sfn|Craig|2005|p=14|ps=: Anarchism is the view that a society without the state, or government, is both possible and desirable}}{{sfn|Sheehan|2003|p=85}} although several authors have defined them more specifically as distinct institutions based on non-hierarchical or [[Free association (communism and anarchism)|free associations]].{{sfn|Suissa|2006|p=7|ps=:[...] as many anarchists have stressed, it is not government as such that they find objectionable, but the hierarchical forms of government associated with the nation state.}}{{sfn|IAF|2012|ps=: The IFA fights for : the abolition of all forms of authority whether economical, political, social, religious, cultural or sexual.}}{{sfn|Kropotkin|1898|ps=: That is why Anarchy, when it works to destroy authority in all its aspects, when it demands the abrogation of laws and the abolition of the mechanism that serves to impose them, when it refuses all hierarchical organization and preaches free agreement\\xe2\\x80\\x94at the same time strives to maintain and enlarge the precious kernel of social customs without which no human or animal society can exist.}}{{sfn|The Anarchist FAQ Editorial Collective|2017|loc= B.1 Why are anarchists against authority and hierarchy?|ps=:anarchists are opposed to irrational (e.g., illegitimate) authority, in other words, hierarchy\\xe2\\x80\\x94hierarchy being the institutionalization of authority within a society}} Anarchism holds [[capitalism]], the [[State (polity)|state]], and [[representative democracy]] to be undesirable, unnecessary, and harmful.&lt;ref name=&quot;definition&quot;&gt;{{cite journal|last=Malatesta|first=Errico|title=Towards Anarchism|journal = MAN! |oclc=3930443|url=http://www.marxists.org/archive/malatesta/1930s/xx/toanarchy.htm|archiveurl=https://web.archive.org/web/20121107221404/http://marxists.org/archive/malatesta/1930s/xx/toanarchy.htm |archivedate =7 November 2012|deadurl=no|authorlink=Errico Malatesta|ref=harv}}&lt;/ref&gt;&lt;ref&gt;{{cite journal|url=https://www.theglobeandmail.com/servlet/story/RTGAM.20070514.wxlanarchist14/BNStory/lifeWork/home/|archiveurl=https://web.archive.org/web/20070516094548/http://www.theglobeandmail.com/servlet/story/RTGAM.20070514.wxlanarchist14/BNStory/lifeWork/home|archivedate=16 May 2007|deadurl=yes|title=Working for The Man|journal=[[The Globe and Mail]]|accessdate=14 April 2008|last=Agrell|first=Siri|date=14 May 2007|ref=harv}}&lt;/ref&gt;&lt;ref&gt;{{cite web |url=http://www.britannica.com/eb/article-9117285|title=Anarchism|year=2006|work=Encyclop\\xc3\\xa6dia Britannica|publisher=Encyclop\\xc3\\xa6dia Britannica Premium Service|accessdate=29 August 2006|archiveurl=https://web.archive.org/web/20061214085638/http://www.britannica.com/eb/article-9117285 |archivedate=14 December 2006&lt;!--Added by DASHBot--&gt;}}&lt;/ref&gt;&lt;ref&gt;{{cite journal|year=2005|title=Anarchism|journal=The Shorter Routledge Encyclopedia of Philosophy|page=14|quote=Anarchism is the view that a society without the state, or government, is both possible and desirable.|ref=harv}}&lt;/ref&gt;{{sfn|McLean|McMillan|2003|loc= Anarchism}}\\n\"\n",
      "b'\\n'\n",
      "b'While [[Anti-statism|opposition to the state]] is central,&lt;ref&gt;{{harvnb|McLaughlin|2007|p=28}}: &quot;Anarchists do reject the state, as we will see. But to claim that this central aspect of anarchism is definitive is to sell anarchism short.&quot;&lt;/ref&gt; many forms of anarchism specifically entail opposing authority or hierarchical organisation in the conduct of all human relations.{{sfn|Proudhon|1849|ps=:Anarchy is the condition of existence of adult society, as hierarchy is the condition of primitive society. There is a continual progress in human society from hierarchy to anarchy.&quot;}}{{sfn|Bakunin|1882|ps=:In a word, we reject all legislation, all authority, and all privileged, licensed, official, and legal influence, even though arising from universal suffrage, convinced that it can turn only to the advantage of a dominant minority of exploiters against the interests of the immense majority in subjection to them. This is the sense in which we are really Anarchists.}}{{sfn|Armand|1926|ps=:In practice, any individual who, because of his or her temperament or because of conscious and serious reflection, repudiates all external authority or coercion, whether of a governmental, ethical, intellectual, or economic order, can be considered an anarchist. Everyone who consciously rejects the domination of people by other people or by the social ambiance, and its economic corollaries, can be said to be an anarchist as well}} Anarchism is often considered a [[Far-left politics|far-left]] ideology,{{sfn|Brooks|1994|p=xi|ps=:Usually considered to be an extreme left-wing ideology, anarchism has always included a significant strain of radical individualism, from the hyperrationalism of Godwin, to the egoism of Stirner, to the libertarians and anarcho-capitalists of today.}}{{sfn|Kahn|2000}}{{sfn|Moyihan|2007}} and much of [[anarchist economics]] and [[Anarchist law|anarchist legal philosophy]] reflect [[Libertarian socialism|anti-authoritarian interpretations]] of [[Anarcho-communism|communism]], [[Collectivist anarchism|collectivism]], [[Anarcho-syndicalism|syndicalism]], [[Mutualism (economic theory)|mutualism]], or [[participatory economics]].{{sfn|Guerin|1970|ps=:The anarchists were unanimous in subjecting authoritarian socialism to a barrage of severe criticism. At the time when they made violent and satirical attacks these were not entirely well founded, for those to whom they were addressed were either primitive or &quot;vulgar&quot; communists, whose thought had not yet been fertilized by Marxist humanism, or else, in the case of Marx and Engels themselves, were not as set on authority and state control as the anarchists made out.&quot;}}\\n'\n",
      "b'\\n'\n",
      "b'Anarchism does not offer a fixed body of doctrine from a single particular world view, instead fluxing and flowing as a philosophy.{{sfn|Marshall|2010|p=16}} Many types and traditions of anarchism exist, not all of which are mutually exclusive.{{sfn|Sylvan|2007|p=262}} [[Anarchist schools of thought]] can differ fundamentally, supporting anything from extreme [[individualism]] to complete [[collectivism]].{{sfn|McLean|McMillan|2003|loc= Anarchism}} Strains of anarchism have often been divided into the categories of [[Social anarchism|social]] and [[individualist anarchism]] or similar dual classifications.{{sfn|Ostergaard|p=14|loc= Anarchism}}{{sfn|Kropotkin|2002|p=5}}{{sfn|Fowler|1972}}\\n'\n",
      "b'\\n'\n",
      "b'== Etymology and terminology ==\\n'\n",
      "b'{{see also|Anarchist terminology}}\\n'\n",
      "b\"The word &quot;[[wikt:anarchism|anarchism]]&quot; is composed from the word &quot;[[anarchy]]&quot; and the suffix [[-ism]],{{sfn | ''Origin and meaning of anarchism by Online Etymology Dictionary''}} themselves derived respectively from the Greek {{lang|grc|\\xe1\\xbc\\x80\\xce\\xbd\\xce\\xb1\\xcf\\x81\\xcf\\x87\\xce\\xaf\\xce\\xb1}},{{sfn|Kropotkin|1910}} i.e. ''anarchy''&lt;ref&gt;{{LSJ|a)narxi/a|\\xe1\\xbc\\x80\\xce\\xbd\\xce\\xb1\\xcf\\x81\\xcf\\x87\\xce\\xaf\\xce\\xb1|ref}}&lt;/ref&gt;{{sfn | ''Definition of Anarchy by Merriam-Webster'' | 2018}}&lt;ref&gt;[http://www.etymonline.com/index.php?term=anarchy&amp;allowed_in_frame=0 Anarchy], [[Online etymology dictionary]].&lt;/ref&gt; (from {{lang|grc|\\xe1\\xbc\\x84\\xce\\xbd\\xce\\xb1\\xcf\\x81\\xcf\\x87\\xce\\xbf\\xcf\\x82}}, ''anarchos'', meaning &quot;one without rulers&quot;;&lt;ref&gt;{{LSJ|a)/narxos|\\xe1\\xbc\\x84\\xce\\xbd\\xce\\xb1\\xcf\\x81\\xcf\\x87\\xce\\xbf\\xcf\\x82|ref}}&lt;/ref&gt; from the [[privative]] prefix [[privative alpha|\\xe1\\xbc\\x80\\xce\\xbd]]- (''an-'', i.e. &quot;without&quot;) and {{lang|grc|\\xe1\\xbc\\x80\\xcf\\x81\\xcf\\x87\\xcf\\x8c\\xcf\\x82}}, ''archos'', i.e. &quot;leader&quot;, &quot;ruler&quot;;&lt;ref&gt;{{LSJ|a)rxo/s|\\xe1\\xbc\\x80\\xcf\\x81\\xcf\\x87\\xcf\\x8c\\xcf\\x82|ref}}&lt;/ref&gt; (cf. ''[[archon]]'' or {{lang|grc|\\xe1\\xbc\\x80\\xcf\\x81\\xcf\\x87\\xce\\xae}}, ''arkh\\xc4\\x93'', i.e. &quot;authority&quot;, &quot;sovereignty&quot;, &quot;realm&quot;, &quot;magistracy&quot;)&lt;ref&gt;{{LSJ|a)rxh/|\\xe1\\xbc\\x80\\xcf\\x81\\xcf\\x87\\xce\\xae|ref}}&lt;/ref&gt;) and the suffix {{lang|grc|-\\xce\\xb9\\xcf\\x83\\xce\\xbc\\xcf\\x8c\\xcf\\x82}} or {{lang|grc|-\\xce\\xb9\\xcf\\x83\\xce\\xbc\\xce\\xb1}} (''-ismos'', ''-isma'', from the verbal [[infinitive]] suffix {{lang|grc|-\\xce\\xaf\\xce\\xb6\\xce\\xb5\\xce\\xb9\\xce\\xbd}}, ''-izein'').&lt;ref&gt;[http://www.etymonline.com/index.php?term=-ism&amp;allowed_in_frame=0 -ism], [[Online etymology dictionary]].&lt;/ref&gt; The first known use of this word was in 1539.&lt;ref&gt;{{harvnb| ''Definition of Anarchy by Merriam-Webster'' | 2018}}: meaning ''absence of government''&lt;/ref&gt; Various factions within the [[French Revolution]] labelled opponents as anarchists (as [[Maximilien Robespierre]] did the [[H\\xc3\\xa9bertists]]){{sfn | Dictionnaire des usages socio-politiques (1770\\xe2\\x80\\x931815) | 1985 | p=9}} although few shared many views of later anarchists. There would be many revolutionaries of the early nineteenth century who contributed to the anarchist doctrines of the next generation, such as [[William Godwin]] and [[Wilhelm Weitling]], but they did not use the word &quot;anarchist&quot; or &quot;anarchism&quot; in describing themselves or their beliefs.{{sfn|Joll|1964|pp=27\\xe2\\x80\\x9337}}\\n\"\n",
      "b'\\n'\n",
      "b'The first political philosopher to call himself an anarchist was [[Pierre-Joseph Proudhon]], marking the formal birth of anarchism in the mid-nineteenth century. Since the 1890s and beginning in France,{{snf|Nettlau|1996|p=162}} the term &quot;[[libertarianism]]&quot; has often been used as a synonym for anarchism &lt;ref&gt;{{harvnb|Guerin|1970|loc=The Basic Ideas of Anarchism}}: &quot;At the end of the century in France, Sebastien Faure took up a word used in 1858 by one [[Joseph Dejacque]] {{sic}} to make it the title of a journal, Le Libertaire. Today the terms &quot;anarchist&quot; and &quot;libertarian&quot; have become interchangeable&quot;&lt;/ref&gt; and its use as a synonym is still common outside the United States.&lt;ref&gt;\\n'\n",
      "b'* Ward, Colin. Anarchism: A Very Short Introduction. Oxford University Press 2004 p. 62\\n'\n",
      "b'* Goodway, David. [[Anarchist Seeds Beneath the Snow]]. Liverpool Press. 2006, p. 4\\n'\n",
      "b'* MacDonald, Dwight &amp; Wreszin, Michael. Interviews with [[Dwight Macdonald]]. University Press of Mississippi, 2003. p. 82\\n'\n",
      "b\"* Bufe, Charles. The Heretic's Handbook of Quotations. See Sharp Press, 1992. p. iv\\n\"\n",
      "b'* Gay, Kathlyn. Encyclopedia of Political Anarchy. ABC-CLIO / University of Michigan, 2006, p. 126\\n'\n",
      "b'* Woodcock, George. Anarchism: A History of Libertarian Ideas and Movements. Broadview Press, 2004 (uses the terms interchangeably, such as on p. 10).\\n'\n",
      "b'* [[Alexandre Skirda|Skirda, Alexandre]]. Facing the Enemy: A History of Anarchist Organization from Proudhon to May 1968. AK Press 2002. p. 183.\\n'\n",
      "b'* Fernandez, Frank. Cuban Anarchism. The History of a Movement. See Sharp Press, 2001, p. 9.&lt;/ref&gt; On the other hand, some use libertarianism to refer to individualistic free market philosophy only, referring to free market anarchism as [[libertarian anarchism]].&lt;ref&gt;{{harv|Morris|2002|p=61|ps=&amp;nbsp;(Using &quot;libertarian anarchism&quot; synonymously with &quot;individualist anarchism&quot; when referring to individualist anarchism that supports a [[market economy|market society]].)}}&lt;/ref&gt;\\n'\n",
      "b'\\n'\n",
      "b'== History ==\\n'\n",
      "b'{{main|History of anarchism}}\\n'\n",
      "b'\\n'\n",
      "b'=== Origins ===\\n'\n",
      "b\"&lt;!-- Anarcho-communist Joseph D\\xc3\\xa9jacque, the first person to use the term &quot;libertarian&quot; in a political sense and self-proclaimed advocate of libertarianism, needs to be added here. His work and stances on anarchism are very relevant to this particular section of the article. Additionally, his criticisms of Pierre-Joseph Proudhon's mutualism are very relevant here. --&gt;\\n\"\n",
      "b\"The earliest anarchist themes can be found in the 6th century BC among the works of [[Taoism|Taoist]] philosopher [[Laozi]]&lt;ref&gt;{{harvnb|Kropotkin|1910}}: ''&quot; At the same time it evidently found its expression in the writings of some thinkers, since the times of Lao-tsze, although, owing to its non-scholastic and popular origin, it obviously found less sympathy among the scholars than the opposed tendency&quot;''&lt;/ref&gt; and in later centuries by [[Zhuang Zhou|Zhuangzi]] and Bao Jingyan.{{sfn|Graham|2005}} Zhuangzi's philosophy has been described by various sources as anarchist.&lt;ref name=&quot;ZhuangziAnarchist&quot;&gt;\\n\"\n",
      "b'* {{cite web | last=Hansen | first=Chad | title=Taoism | website=plato.stanford.edu | date=19 February 2003 | url=http://plato.stanford.edu/entries/taoism/ | archive-url=https://web.archive.org/web/20130624092211/http://plato.stanford.edu/entries/taoism/ | archive-date=24 June 2013 | dead-url=yes | ref=harv | access-date=17 September 2018|quote =&quot;The priority of dao over tiannature:sky underwrites the themes of dependency and relativism that pervade the Zhuangzi and ultimately the skepticism, the open-minded toleration and the political anarchism (or disinterest in political activity or involvement).&quot; [http://plato.stanford.edu/entries/taoism/ &quot;Taoism&quot; at the Stanford Encyclopedia of Philosophy]}}\\n'\n",
      "b'* {{cite web | title=Zen Anarchy | website=The Anarchist Library | date=14 August 2009 | url=https://theanarchistlibrary.org/library/max-cafard-zen-anarchy | ref={{sfnref | The Anarchist Library | 2009}} | access-date=17 September 2018|quote = Doing nothing [wu wei] is the famous Daoist concept for natural action, action in accord with Dao, action in which we freely follow our own way and allow other beings to do likewise. Zhuangzi, the great anarchic Daoist sage, compared it to &quot;riding on the wind.&quot;}}\\n'\n",
      "b\"* {{cite web | title=Zhuangzi \\xe2\\x80\\x93 Internet Encyclopedia of Philosophy | website=iep.utm.edu | date=3 March 2016 | url=http://www.iep.utm.edu/zhuangzi/ | archive-url=https://web.archive.org/web/20160303175106/http://www.iep.utm.edu/zhuangzi/ | archive-date=3 March 2016 | dead-url=yes | ref={{sfnref | iep.utm.edu | 2016}} | access-date=17 September 2018|quote = &quot;The next group of interpreters have also become incorporated into the extant version of the text. They are the school of anarchistically inclined philosophers, that Graham identifies as a &quot;Primitivist&quot; and a school of &quot;Yangists,&quot; chapters 8 to 11, and 28 to 31. These thinkers appear to have been profoundly influenced by the Laozi, and also by the thought of the first and last of the Inner Chapters: &quot;Wandering Beyond,&quot; and &quot;Responding to Emperors and Kings.&quot; There are also possible signs of influence from Yang Zhu, whose concern was to protect and cultivate one's inner life-source. These chapters combine the anarchistic ideals of a simple life close to nature that can be found in the Laozi with the practices that lead to the cultivation and nurturing of life. }}&lt;/ref&gt; Zhuangzi wrote: &quot;A petty thief is put in jail. A great [[wikt:brigand|brigand]] becomes a ruler of a Nation&quot;.&lt;ref&gt;{{cite journal |author=[[Murray Rothbard]] |date=1990 |title=Concepts of the Role of Intellectuals in Social Change Toward Laissez Faire |url=https://www.mises.org/journals/jls/9_2/9_2_3.pdf |accessdate=28 December 2008 |journal=[[Journal of Libertarian Studies]] |volume=9 |number=2 |pages=43\\xe2\\x80\\x9367 |archiveurl=https://web.archive.org/web/20081216214953/https://www.mises.org/journals/jls/9_2/9_2_3.pdf |archivedate=16 December 2008&lt;!--Added by DASHBot--&gt;}}&lt;/ref&gt; [[Diogenes of Sinope]] and the [[Cynicism (philosophy)|Cynics]] as well as their contemporary [[Zeno of Citium]], the founder of [[Stoicism]], also introduced similar topics.{{sfn|Kropotkin|1910}}&lt;ref&gt;{{cite IEP|c/cynics.htm|Cynics|Julie Piering}}&lt;/ref&gt; [[Jesus]] is sometimes considered the first anarchist in the [[Christian anarchism|Christian anarchist]] tradition. Georges Lechartier wrote: &quot;The true founder of anarchy was Jesus Christ and&amp;nbsp;[...] the first anarchist society was that of the [[Apostle (Christian)|apostles]]&quot;.&lt;ref&gt;Cited in George Woodcock, ''Anarchism: A History of Libertarian Ideas and Movements'' (Cleveland: Meridian Books, 1962), p. 38.&lt;/ref&gt; In early [[History of Islam|Islamic history]], some manifestations of anarchic thought are found during the [[Second Fitna|Islamic civil war]] over the [[Caliphate]], where the [[Kharijites]] insisted that the [[imamate]] is a right for each individual within the Islamic society.&lt;ref&gt;{{cite book|url=http://theanarchistlibrary.org/library/mohamed-jean-veneuse-anarca-islam#fn_back31|title=Anarca-Islam|work=theanarchistlibrary.org|access-date=19 February 2014|archive-url=https://web.archive.org/web/20140225023248/http://theanarchistlibrary.org/library/mohamed-jean-veneuse-anarca-islam|archive-date=25 February 2014}}&lt;/ref&gt;\\n\"\n",
      "b'\\n'\n",
      "b'[[File:Levellers declaration and standard.gif|thumb|left|upright|[[Woodcut]] from a [[Diggers]] document by [[William Everard (Digger)|William Everard]]]]\\n'\n",
      "b\"The French [[Renaissance humanism|Renaissance]] political philosopher [[\\xc3\\x89tienne de La Bo\\xc3\\xa9tie]] wrote in his most famous work the ''[[Discourse on Voluntary Servitude]]'' what some historians consider an important anarchist precedent.&lt;ref&gt;Several historians of anarchism have gone so far as to classify La Botie's treatise itself as anarchist, which is incorrect since La Botie never extended his analysis from tyrannical government to government per se, but while La Botie cannot be considered an anarchist, his sweeping strictures on tyranny and the universality of his political philosophy lend themselves easily to such an expansion. [https://books.google.com/books?id=6o-8P3iqf7IC&amp;pg=PA18&amp;lpg=PA18&amp;dq=anarchism+la+boetie#v=onepage&amp;q=anarchism%20la%20boetie ''Introduction to The Politics of Obedience: The Discourse of Voluntary Servitude''] by Murray Rothbard. Ludwig Von Mises Institute. p. 18.&lt;/ref&gt;&lt;ref&gt;&quot;Quite rightly, La Bo\\xc3\\xabtie recognizes the potential for domination in any democracy: the democratic leader, elected by the people, becomes intoxicated with his own power and teeters increasingly towards tyranny. Indeed, we can see modern democracy itself as an instance of voluntary servitude on a mass scale. It is not so much that we participate in an illusion whereby we are deceived by elites into thinking we have a genuine say in decision-making. It is rather that democracy itself has encouraged a mass contentment with powerlessness and a general love of submission.&quot; [http://theanarchistlibrary.org/library/saul-newman-voluntary-servitude-reconsidered-radical-politics-and-the-problem-of-self-dominatio &quot;Voluntary Servitude Reconsidered: Radical Politics and the Problem of Self-Domination&quot;] [[Saul Newman]].&lt;/ref&gt; The radical [[Protestant Christianity|Protestant Christian]] [[Gerrard Winstanley]] and his group the Diggers are cited by various authors as proposing anarchist social measures in the 17th century in England.&lt;ref&gt;&quot;Anarchists have regarded the secular revolt of the [[Diggers]], or True Levellers, in seventeenth-century England led by Gerrard Winstanley as a source of pride. Winstanley, deeming that property is corrupting, opposed clericalism, political power and privilege. It is economic inequality, he believed, that produces crime and misery. He championed a primitive communalism based on the pure teachings of God as comprehended through reason.&quot; [http://www.theanarchistlibrary.org/HTML/Kenneth_C._Wenzer__Godwin_s_Place_in_the_Anarchist_Tradition___a_Bicentennial_Tribute.html Kenneth C. Wenzer. &quot;Godwin's Place in the Anarchist Tradition \\xe2\\x80\\x93 a Bicentennial Tribute&quot;]&lt;/ref&gt;&lt;ref&gt;&quot;It was in these conditions of class struggle that, among a whole cluster of radical groups such as the Fifth Monarchy Men, the [[Levellers]] and the Ranters, there emerged perhaps the first real proto-anarchists, the Diggers, who like the classical 19th-century anarchists identified political and economic power and who believed that a social, rather than political revolution was necessary for the establishment of justice. Gerrard Winstanley, the Diggers' leader, made an identification with the word of God and the principle of reason, an equivalent philosophy to that found in [[Tolstoy]]'s ''[[The Kingdom of God is Within You]]''.&quot; Marlow. &quot;Anarchism and Christianity&quot;&lt;/ref&gt;&lt;ref&gt;&quot;Although Proudhon was the first writer to call himself an anarchist, at least two predecessors outlined systems that contain all the basic elements of anarchism. The first was Gerrard Winstanley (1609 \\xe2\\x80\\x93 c. 1660), a linen draper who led the small movement of the Diggers during the Commonwealth. Winstanley and his followers protested in the name of a radical Christianity against the economic distress that followed the Civil War and against the inequality that the grandees of the New Model Army seemed intent on preserving. In 1649\\xe2\\x80\\x931650 the Diggers squatted on stretches of common land in southern England and attempted to set up communities based on work on the land and the sharing of goods.&quot; George Woodcock Anarchism The Encyclopedia of Philosophy&lt;/ref&gt; The term &quot;anarchist&quot; first entered the English language in 1642 during the [[English Civil War]] as a [[Pejorative|term of abuse]], used by [[Cavalier|Royalists]] against their [[Roundhead]] opponents.&lt;ref name=bbc&gt;[http://www.bbc.co.uk/radio4/history/inourtime/inourtime_20061207.shtml &quot;Anarchism&quot;], [[BBC Radio 4]] program, [[In Our Time (BBC Radio 4)|In Our Time]], Thursday 7 December 2006. Hosted by [[Melvyn Bragg]] of the BBC, with John Keane, Professor of Politics at [[University of Westminster]], [[Ruth Kinna]], Senior Lecturer in Politics at [[Loughborough University]], and [[Peter Marshall (author)|Peter Marshall]], philosopher and historian.&lt;/ref&gt; By the time of the [[French Revolution]], some such as the [[Enrag\\xc3\\xa9s|Enraged Ones]] began to use the term positively&lt;ref&gt;Sheehan, Sean. ''Anarchism'', London: Reaktion Books Ltd., 2004. p. 85.&lt;/ref&gt; in opposition to [[Jacobin (politics)|Jacobin]] centralisation of power, seeing &quot;revolutionary government&quot; as [[oxymoron]]ic.&lt;ref name=bbc /&gt; By the turn of the 19th century, the English word &quot;anarchism&quot; had lost its initial negative connotation.&lt;ref name=bbc/&gt;\\n\"\n",
      "b'\\n'\n",
      "b\"Modern anarchism emerged from the secular or religious thought of the [[Age of Enlightenment|Enlightenment]], particularly [[Jean-Jacques Rousseau]]'s arguments for the moral centrality of freedom.&lt;ref name=Encarta&gt;&quot;Anarchism&quot;, ''[[Encarta]] Online Encyclopedia'' 2006 (UK version).&lt;/ref&gt;\\n\"\n",
      "b'\\n'\n",
      "b'[[File:WilliamGodwin.jpg|thumb|left|upright|[[William Godwin]], was &quot;the first to formulate the political and economical conceptions of anarchism, even though he did not give that name to the ideas developed in his work&quot; according to Kropotkin.{{sfn|Kropotkin|1910}}]]\\n'\n",
      "b\"As part of the political turmoil of the 1790s in the wake of the French Revolution, [[William Godwin]] developed the first expression of modern anarchist thought.&lt;ref name=&quot;Everhart, Robert B 1982. p. 115&quot;&gt;Everhart, Robert B. The Public School Monopoly: A Critical Analysis of Education and the State in American Society. Pacific Institute for Public Policy Research, 1982. p. 115.&lt;/ref&gt;&lt;ref name=&quot;godwinsep&quot; /&gt; According to [[Peter Kropotkin]], Godwin was &quot;the first to formulate the political and economical conceptions of anarchism, even though he did not give that name to the ideas developed in his work&quot;{{sfn|Kropotkin|1910}} while Godwin attached his anarchist ideas to an early [[Edmund Burke]].&lt;ref&gt;Godwin himself attributed the first anarchist writing to Edmund Burke's '' [[A Vindication of Natural Society]]''. &quot;Most of the above arguments may be found much more at large in Burke's ''Vindication of Natural Society''; a treatise in which the evils of the existing political institutions are displayed with incomparable force of reasoning and lustre of eloquence&amp;nbsp;...&quot; \\xe2\\x80\\x93 footnote, Ch. 2 ''[[Political Justice]]'' by William Godwin.&lt;/ref&gt;\\n\"\n",
      "b'\\n'\n",
      "b\"Godwin is generally regarded as the founder of the school of thought known as [[philosophical anarchism]]. He argued in ''[[Political Justice]]'' (1793)&lt;ref name=&quot;godwinsep&quot; /&gt;&lt;ref name=&quot;Adams, Ian 2001. p. 116&quot;&gt;Adams, Ian. Political Ideology Today. Manchester University Press, 2001. p. 116.&lt;/ref&gt; that government has an inherently malevolent influence on society and that it perpetuates dependency and ignorance. He thought that the spread of the use of reason to the masses would eventually cause government to wither away as an unnecessary force. Although he did not accord the state with moral legitimacy, he was against the use of revolutionary tactics for removing the government from power. Rather, he advocated for its replacement through a process of peaceful evolution.&lt;ref name=&quot;godwinsep&quot;&gt;{{cite SEP|url-id=godwin|title=William Godwin|last=Philip|first=Mark|date=20 May 2006}}&lt;/ref&gt;&lt;ref&gt;{{cite book|title=Enquiry Concerning Political Justice and its Influence on Modern Morals and Manners|last=Godwin|first=William|authorlink=William Godwin|year=1796|publisher=G.G. and J. Robinson|oclc=2340417|origyear=1793|title-link=Political Justice}}&lt;/ref&gt;\\n\"\n",
      "b'\\n'\n",
      "b\"His aversion to the imposition of a rules-based society led him to denounce as a manifestation of the people's &quot;mental enslavement&quot; the foundations of law, [[property rights]] and even the institution of marriage. He considered the basic foundations of society as constraining the natural development of individuals to use their powers of reasoning to arrive at a mutually beneficial method of social organisation. In each case, government and its institutions are shown to constrain the development of our capacity to live wholly in accordance with the full and free exercise of private judgement.\\n\"\n",
      "b'\\n'\n",
      "b\"The French [[Pierre-Joseph Proudhon]] is regarded as the first self-proclaimed anarchist, a label he adopted in his groundbreaking work ''[[What is Property?]]'', published in 1840. It is for this reason that some claim Proudhon as the founder of modern anarchist theory.&lt;ref&gt;Daniel Guerin, ''Anarchism: From Theory to Practice'' (New York: Monthly Review Press, 1970).&lt;/ref&gt; He developed the theory of [[spontaneous order]] in society, where organisation emerges without a central coordinator imposing its own idea of order against the wills of individuals acting in their own interests. His famous quote on the matter is &quot;Liberty is the mother, not the daughter, of order&quot;. In ''What is Property?'', Proudhon answers with the famous accusation &quot;[[Property is theft]]&quot;. In this work, he opposed the institution of decreed &quot;property&quot; (''propri\\xc3\\xa9t\\xc3\\xa9''), where owners have complete rights to &quot;use and abuse&quot; their property as they wish.&lt;ref name=&quot;proudhon-prop&quot;&gt;Proudhon, Pierre-Joseph. ''&quot;[http://www.marxists.org/reference/subject/economics/proudhon/property/ch03.htm Chapter 3. Labour as the efficient cause of the domain of property]&quot;'' from ''&quot;[[What is Property?]]&quot;'', 1840&lt;/ref&gt; He contrasted this with what he called &quot;possession&quot;, or limited ownership of resources and goods only while in more or less continuous use. However, Proudhon later added that &quot;Property is Liberty&quot; and argued that it was a bulwark against state power.&lt;ref&gt;Edwards, Stewart. Introduction to ''Selected Writings of Pierre-Joseph Proudhon'', Anchor Books, Doubleday &amp; Company, Inc. 1969, p. 33&lt;/ref&gt; His opposition to the state, organised religion and certain [[capitalist]] practices inspired subsequent anarchists and made him one of the leading social thinkers of his time.\\n\"\n",
      "b'\\n'\n",
      "b\"The [[Anarcho-communism|anarcho-communist]] [[Joseph D\\xc3\\xa9jacque]] was the first person to describe himself as &quot;[[Libertarianism|libertarian]]&quot;.&lt;ref name=&quot;Dejacque&quot;&gt;Joseph D\\xc3\\xa9jacque, [http://joseph.dejacque.free.fr/ecrits/lettreapjp.htm De l'\\xc3\\xaatre-humain m\\xc3\\xa2le et femelle \\xe2\\x80\\x93 Lettre \\xc3\\xa0 P.J. Proudhon par Joseph D\\xc3\\xa9jacque] (in French)&lt;/ref&gt; Unlike Proudhon, he argued that &quot;it is not the product of his or her labour that the worker has a right to, but to the satisfaction of his or her needs, whatever may be their nature&quot;.&lt;ref&gt;&quot;l'Echange&quot;, article in ''Le Libertaire'' no 6, 21 September 1858, New York. [http://joseph.dejacque.free.fr/libertaire/n06/lib01.htm]&lt;/ref&gt; In 1844, the [[post-Hegelian]] philosopher [[Max Stirner]] published in Germany the book, ''[[The Ego and Its Own]]'', which would later be considered an influential early text of [[individualist anarchism]].&lt;ref name=&quot;SEP-Stirner&quot;&gt;{{cite SEP|url-id=max-stirner|title=Max Stirner|last=Leopold|first=David|date=4 August 2006}}&lt;/ref&gt; French anarchists active in the [[Revolutions of 1848|1848 Revolution]] included [[Anselme Bellegarrigue]], Ernest Coeurderoy, Joseph D\\xc3\\xa9jacque&lt;ref name=&quot;Dejacque&quot;/&gt; and Proudhon himself.&lt;ref&gt;{{cite web|url=http://theanarchistlibrary.org/library/pierre-joseph-proudhon-toast-to-the-revolution|title=Toast to the Revolution|work=theanarchistlibrary.org|access-date=13 November 2012|archiveurl=https://web.archive.org/web/20121003195513/http://theanarchistlibrary.org/library/pierre-joseph-proudhon-toast-to-the-revolution|archivedate=3 October 2012}}&lt;/ref&gt;&lt;ref&gt;{{cite web|url=https://books.google.com/books/about/L_acitivit%C3%A9_d_un_socialiste_de_1848.html?id=wbrfSAAACAAJ|title=L'acitivit\\xc3\\xa9 d'un socialiste de 1848|work=google.com.ec|accessdate=5 June 2016|last1=Sudan|first1=Elisa|year=1921}}&lt;/ref&gt;\\n\"\n",
      "b'{{clear}}\\n'\n",
      "b'\\n'\n",
      "b'=== First International and the Paris Commune ===\\n'\n",
      "b\"{{main|International Workingmen's Association|Paris Commune}}\\n\"\n",
      "b\"[[File:Bakunin.png|thumb|upright|Anarchist [[Mikhail Bakunin]] opposed the [[Marxism|Marxist]] aim of [[dictatorship of the proletariat]] in favour of universal rebellion and allied himself with the federalists in the [[International Workingmen's Association|First International]] before his expulsion by the Marxists&lt;ref name=bbc/&gt;]]\\n\"\n",
      "b\"In Europe, harsh reaction followed the [[revolutions of 1848]], during which ten countries had experienced brief or long-term social upheaval as groups carried out nationalist uprisings. After most of these attempts at systematic change ended in failure, [[conservative]] elements took advantage of the divided groups of [[Socialism|socialists]], [[Liberalism|liberals]] and [[Nationalism|nationalists]] along with anarchists to prevent further revolt.&lt;ref&gt;{{cite book |last=Breunig |first=Charles |title=The Age of Revolution and Reaction, 1789\\xe2\\x80\\x931850 |year=1977 |publisher=W.W. Norton &amp; Company|location=New York|isbn=978-0-393-09143-4 }}&lt;/ref&gt; In Spain, Ram\\xc3\\xb3n de la Sagra established the anarchist journal ''El Porvenir'' in La Coru\\xc3\\xb1a in 1845 which was inspired by Proudhon's ideas.&lt;ref name=&quot;britannica.com&quot;&gt;{{cite web|url=http://www.britannica.com/EBchecked/topic/22753/anarchism/66525/Anarchism-in-Spain#ref539322|title=anarchism :: Anarchism in Spain|work=Encyclop\\xc3\\xa6dia Britannica|access-date=24 April 2014}}&lt;/ref&gt; The Catalan politician [[Francesc Pi i Margall]] became the principal translator of Proudhon's works into Spanish&lt;ref&gt;[[George Woodcock]]. ''Anarchism: a history of libertarian movements''. p 357&lt;/ref&gt; and later briefly became President of Spain in 1873 while being the leader of the [[Federal Democratic Republican Party]]. According to George Woodcock: &quot;These translations were to have a profound and lasting effect on the development of Spanish anarchism after 1870, but before that time Proudhonian ideas, as interpreted by Pi, already provided much of the inspiration for the federalist movement which sprang up in the early 1860s&quot;.&lt;ref&gt;George Woodcock. ''Anarchism: a history of libertarian movements''. p. 357&lt;/ref&gt; According to the ''[[Encyclop\\xc3\\xa6dia Britannica]]'': &quot;During the Spanish revolution of 1873, Pi y Margall [[Cantonal Revolution|attempted to establish a decentralised, or &quot;cantonalist,&quot; political system]] on Proudhonian lines&quot;.&lt;ref name=&quot;britannica.com&quot; /&gt;\\n\"\n",
      "b'\\n'\n",
      "b\"In 1864, the [[International Workingmen's Association]] (sometimes called the First International) united diverse revolutionary currents including French followers of Proudhon,&lt;ref&gt;{{cite book | last = Blin | first = Arnaud | title = The History of Terrorism | publisher = University of California Press | location = Berkeley | year = 2007 | isbn = 978-0-520-24709-3 |page=116}}&lt;/ref&gt; [[Blanquism|Blanquists]], [[Philadelphes]], English trade unionists, socialists and [[Social democracy|social democrats]]. Due to its links to active workers' movements, the International became a significant organisation. [[Karl Marx]] became a leading figure in the International and a member of its General Council. Proudhon's followers, the [[Mutualism (economic theory)|mutualists]], opposed Marx's [[state socialism]], advocating political [[abstentionism]] and small property holdings.&lt;ref&gt;{{cite book | last = Dodson | first = Edward | title = The Discovery of First Principles: Volume 2 | publisher = Authorhouse | page=312 | year = 2002 | isbn = 978-0-595-24912-1 }}&lt;/ref&gt;&lt;ref&gt;{{cite book | last = Thomas | first = Paul | title = Karl Marx and the Anarchists | publisher = Routledge &amp; Kegan Paul |ref=harv | location = London | year = 1985 | isbn = 978-0-7102-0685-5 |page=187}}&lt;/ref&gt; Woodcock also reports that the [[Individualist anarchism in the United States|American individualist anarchists]] [[Lysander Spooner]] and [[William Batchelder Greene]] had been members of the First International.&lt;ref name=&quot;Woodcock&quot;&gt;{{cite book|last=Woodcock|first=G.|authorlink=George Woodcock|title=Anarchism: A History of Libertarian Ideas and Movements|year=1962|publisher=Penguin|location=Melbourne|page=460}}&lt;/ref&gt; In 1868, following their unsuccessful participation in the [[League of Peace and Freedom]] (LPF) Russian revolutionary [[Mikhail Bakunin]] and his [[collectivist anarchist]] associates joined the First International, which had decided not to get involved with the LPF.&lt;ref&gt;{{cite book | last = Thomas | first = Paul | title = Karl Marx and the Anarchists | publisher = Routledge and Kegan Paul | location = London | year = 1980 | isbn = 978-0-7102-0685-5 |page=304}}&lt;/ref&gt; They allied themselves with the [[federalist]] socialist sections of the International,&lt;ref&gt;{{cite book | last = Bak | first = J\\xc7\\xb9os | title = Liberty and Socialism | publisher = Rowman &amp; Littlefield Publishers | location = Lanham | year = 1991 | isbn = 978-0-8476-7680-4 |page=236}}&lt;/ref&gt; who advocated the revolutionary overthrow of the state and the collectivisation of property. At first, the collectivists worked with the Marxists to push the First International in a more revolutionary socialist direction. Subsequently, the International became polarised into two camps, with Marx and Bakunin as their respective figureheads.&lt;ref&gt;{{cite book | last = Engel | first = Barbara | title = Mothers and Daughters | publisher = Northwestern University Press | location = Evanston | year = 2000 | isbn = 978-0-8101-1740-2 |page=140}}&lt;/ref&gt; Bakunin characterised Marx's ideas as [[centralism|centralist]] and predicted that if a Marxist party came to power, its leaders would simply take the place of the [[ruling class]] they had fought against.&lt;ref name=&quot;bakuninmarx&quot; /&gt;&lt;ref&gt;{{cite book |last=Bakunin|first=Mikhail|authorlink=Mikhail Bakunin|origyear=1873|year=1991|title=Statism and Anarchy |publisher=Cambridge University Press|isbn=978-0-521-36973-2}}&lt;/ref&gt;\\n\"\n",
      "b'\\n'\n",
      "b\"Anarchist historian George Woodcock reports: &quot;The annual Congress of the International had not taken place in 1870 owing to the outbreak of the Paris Commune, and in 1871 the General Council called only a special conference in London. One delegate was able to attend from Spain and none from Italy, while a technical excuse\\xe2\\x80\\x94that they had split away from the F\\xc3\\xa9d\\xc3\\xa9ration Romande\\xe2\\x80\\x94was used to avoid inviting Bakunin's Swiss supporters. Thus only a tiny minority of anarchists was present, and the General Council's resolutions passed almost unanimously. Most of them were clearly directed against Bakunin and his followers&quot;.&lt;ref name=&quot;Anarchism 1962&quot;&gt;[[George Woodcock]]. ''Anarchism: A History of Libertarian Ideas and Movements'' (1962)&lt;/ref&gt; In 1872, the conflict climaxed with a final split between the two groups at the [[Hague Congress (1872)|Hague Congress]], where Bakunin and [[James Guillaume]] were expelled from the International and its headquarters were transferred to New York. In response, the federalist sections formed their own International at the [[Anarchist St. Imier International|St. Imier Congress]], adopting a revolutionary anarchist programme.&lt;ref name=Graham-05&gt;{{cite book|last=Graham|first=Robert|title=Anarchism|url=https://books.google.com/books?id=17QmeAXYI8QC&amp;pg=PA98|year=2005|publisher=Black Rose Books|isbn=978-1-55164-576-6|page=98}}&lt;/ref&gt;\\n\"\n",
      "b'\\n'\n",
      "b\"The [[Paris Commune]] was a government that briefly ruled Paris from 18 March (more formally, from 28 March) to 28 May 1871. The Commune was the result of an uprising in Paris after France was defeated in the Franco-Prussian War. Anarchists participated actively in the establishment of the Paris Commune. They included [[Louise Michel]], the Reclus brothers ([[\\xc3\\x89lie Reclus]] and [[\\xc3\\x89lis\\xc3\\xa9e Reclus]]) and [[Eugene Varlin]] (the latter murdered in the repression afterwards). As for the reforms initiated by the Commune, such as the re-opening of workplaces as co-operatives, anarchists can see their ideas of associated labour beginning to be realised. Moreover, the Commune's ideas on federation obviously reflected the influence of Proudhon on French radical ideas. The Commune's vision of a communal France based on a federation of delegates bound by imperative mandates issued by their electors and subject to recall at any moment echoes Bakunin's and Proudhon's ideas (Proudhon, like Bakunin, had argued in favour of the &quot;implementation of the binding mandate&quot; in 1848 and for federation of communes), thus both economically and politically the Paris Commune was heavily influenced by anarchist ideas.&lt;ref&gt;{{cite web|url=http://flag.blackened.net/revolt/anarchism/writers/anarcho/commune.html|title=The Paris Commune|work=blackened.net|accessdate=30 April 2012|archiveurl=https://web.archive.org/web/20120625232340/http://flag.blackened.net/revolt/anarchism/writers/anarcho/commune.html|archivedate=25 June 2012}}&lt;/ref&gt; George Woodcock states that &quot;a notable contribution to the activities of the Commune and particularly to the organization of public services was made by members of various anarchist factions, including the mutualists Courbet, Longuet, and Vermorel, the libertarian collectivists Varlin, Malon, and Lefrangais, and the bakuninists Elie and Elis\\xc3\\xa9e Reclus and Louise Michel&quot;.&lt;ref name=&quot;Anarchism 1962&quot;/&gt;\\n\"\n",
      "b'\\n'\n",
      "b'=== Organised labour ===\\n'\n",
      "b\"{{main|Anarcho-syndicalism|International Workers' Association|Anarchism in Spain|Spanish Revolution of 1936}}\\n\"\n",
      "b\"The [[Anti-authoritarianism|anti-authoritarian]] sections of the First International were the precursors of the [[Anarcho-syndicalism|anarcho-syndicalists]], seeking to &quot;replace the privilege and authority of the State&quot; with the &quot;free and spontaneous organization of labour&quot;.&lt;ref&gt;Resolutions from the St. Imier Congress, in ''Anarchism: A Documentary History of Libertarian Ideas'', Vol. 1, p. 100 [http://www.blackrosebooks.net/anarism1.htm]&lt;/ref&gt; In 1886, the [[Federation of Organized Trades and Labor Unions]] of the United States and Canada unanimously set 1 May 1886 as the date by which the [[Eight-hour day|eight-hour work day]] would become standard.&lt;ref name=foner/&gt;\\n\"\n",
      "b'\\n'\n",
      "b\"[[File:ChicagoAnarchists.jpg|thumb|left|upright|A sympathetic engraving by [[Walter Crane]] of the executed anarchists of Chicago after the [[Haymarket affair]], which is generally considered the most significant event for the origin of international [[International Workers' Day|May Day]] observances]]\\n\"\n",
      "b\"In response, unions across the United States prepared a [[general strike]] in support of the event.&lt;ref name=foner/&gt; On 3 May, a fight broke out in Chicago when [[strikebreaker]]s attempted to cross the picket line and two workers died when police opened fire upon the crowd.&lt;ref&gt;{{cite book |last=Avrich |first=Paul |title=The Haymarket Tragedy |year=1984 |publisher=Princeton University Press |location=Princeton |isbn=978-0-691-00600-0 |page=190|title-link=The Haymarket Tragedy }}&lt;/ref&gt; The next day on 4 May, anarchists staged a rally at Chicago's Haymarket Square.&lt;ref&gt;{{cite book |last=Avrich |title=The Haymarket Tragedy |page=193 |isbn=978-0-691-04711-9 |title-link=The Haymarket Tragedy |year=1984 }}&lt;/ref&gt; A bomb was thrown by an unknown party near the conclusion of the rally, killing an officer.&lt;ref&gt;{{cite web |url=http://www.odmp.org/officer/3972-patrolman-mathias-j.-degan |title=Patrolman Mathias J. Degan |access-date=19 January 2008 |publisher=The Officer Down Memorial Page, Inc | archiveurl= https://web.archive.org/web/20080118084649/http://www.odmp.org/officer/3972-patrolman-mathias-j.-degan| archivedate= 18 January 2008&lt;!--Added by DASHBot--&gt;}}&lt;/ref&gt; In the ensuing panic, police opened fire on the crowd and each other.&lt;ref&gt;''[[Chicago Tribune]]'', 27 June 1886, quoted in {{cite book |last=Avrich |title=The Haymarket Tragedy |page=209 |isbn=978-0-691-04711-9 |title-link=The Haymarket Tragedy |year=1984 }}&lt;/ref&gt; Seven police officers and at least four workers were killed.&lt;ref name=&quot;the bomb&quot;&gt;{{cite web |url=http://www.chicagohistory.org/dramas/act2/act2.htm |title=Act II: Let Your Tragedy Be Enacted Here |access-date=19 January 2008 |year=2000 |work=The Dramas of Haymarket |publisher=Chicago Historical Society | archiveurl= https://web.archive.org/web/20080115030929/http://www.chicagohistory.org/dramas/act2/act2.htm| archivedate= 15 January 2008&lt;!--Added by DASHBot--&gt;}}&lt;/ref&gt; Eight anarchists directly and indirectly related to the organisers of the rally were arrested and charged with the murder of the deceased officer. The men became international political celebrities among the labour movement. Four of the men were executed and a fifth committed suicide prior to his own execution. The incident became known as the [[Haymarket affair]] and was a setback for the labour movement and the struggle for the eight-hour day. In 1890, a second attempt\\xe2\\x80\\x94this time international in scope\\xe2\\x80\\x94to organise for the eight-hour day was made. The event also had the secondary purpose of memorialising workers killed as a result of the Haymarket affair.&lt;ref&gt;{{cite book |last=Foner |title=May Day |page=42 |isbn=978-0-7178-0624-9 |year=1986 }}&lt;/ref&gt; Although it had initially been conceived as a once-off event, by the following year the celebration of [[International Workers' Day]] on May Day had become firmly established as an international worker's holiday.&lt;ref name=foner&gt;{{cite book | last = Foner | first = Philip Sheldon | title = May day: a short history of the international workers' holiday, 1886\\xe2\\x80\\x931986 | publisher = International Publishers | location = New York | year = 1986 | isbn = 978-0-7178-0624-9 |page=56}}&lt;/ref&gt;\\n\"\n",
      "b'\\n'\n",
      "b\"In 1907, the [[International Anarchist Congress of Amsterdam]] gathered delegates from 14 different countries, among which were important figures of the anarchist movement, including [[Errico Malatesta]], [[Pierre Monatte]], [[Luigi Fabbri]], [[Beno\\xc3\\xaet Broutchoux]], [[Emma Goldman]], [[Rudolf Rocker]] and [[Christiaan Cornelissen]]. Various themes were treated during the Congress, in particular concerning the organisation of the anarchist movement, [[popular education]] issues, the general strike or [[antimilitarism]]. A central debate concerned the relation between anarchism and [[syndicalism]] (or [[trade union]]ism). Malatesta and Monatte were in particular disagreement themselves on this issue as the latter thought that syndicalism was revolutionary and would create the conditions of a [[social revolution]] while Malatesta did not consider syndicalism by itself sufficient.&lt;ref&gt;{{cite web |url=http://www.fondation-besnard.org/article.php3?id_article=225 |title=Extract of Malatesta's declaration |archive-url=https://web.archive.org/web/20070928002329/http://www.fondation-besnard.org/article.php3?id_article=225 |archive-date=28 September 2007 |language=fr |date=7 April 2005 |access-date=24 July 2018 |work=Fondation Besnard}}&lt;/ref&gt; He thought that the trade union movement was [[reformism|reformist]] and even conservative, citing as essentially bourgeois and anti-worker the phenomenon of professional union officials. Malatesta warned that the syndicalists aims were in perpetuating syndicalism itself, whereas anarchists must always have anarchy as their end and consequently refrain from committing to any particular method of achieving it.&lt;ref&gt;{{cite book | last = Skirda | first = Alexandre | title = Facing the enemy: a history of anarchist organization from Proudhon to May 1968 | publisher = A.K. Press| year = 2002 | isbn = 978-1-902593-19-7 |page=89 | title-link = Facing the Enemy }}&lt;/ref&gt;\\n\"\n",
      "b'\\n'\n",
      "b'In 1881, the [[Federaci\\xc3\\xb3n Anarquista Ib\\xc3\\xa9rica|Spanish Workers Federation]] was the first major anarcho-syndicalist movement\\xe2\\x80\\x94anarchist trade union federations were of special importance in Spain. The most successful was the [[Confederaci\\xc3\\xb3n Nacional del Trabajo]] (National Confederation of Labour, CNT), founded in 1910. Before the 1940s, the CNT was the major force in Spanish working class politics, attracting 1.58&amp;nbsp;million members at one point and playing a major role in the [[Spanish Civil War]].&lt;ref&gt;{{cite book|last=Beevor|first=Antony|authorlink=Antony Beevor|year=2006|title=The Battle for Spain: The Spanish Civil War 1936\\xe2\\x80\\x931939|publisher=Weidenfeld &amp; Nicolson|location=London|isbn=978-0-297-84832-5|page=24}}&lt;/ref&gt; The CNT was affiliated with the [[International Workers Association]], a federation of anarcho-syndicalist trade unions founded in 1922, with delegates representing two million workers from 15 countries in Europe and Latin America. In Latin America in particular, &quot;[t]he anarchists quickly became active in organising craft and industrial workers throughout South and Central America, and until the early 1920s most of the trade unions in [[Anarchism in Mexico|Mexico]], [[Anarchism in Brazil|Brazil]], Peru, Chile, and Argentina were anarcho-syndicalist in general outlook; the prestige of the Spanish C.N.T. as a revolutionary organisation was undoubtedly to a great extent responsible for this situation. The largest and most militant of these organisations was the [[Federaci\\xc3\\xb3n Obrera Regional Argentina]]&amp;nbsp;[...] it grew quickly to a membership of nearly a quarter of a million, which dwarfed the rival socialdemocratic unions&quot;.&lt;ref name=&quot;Anarchism 1962&quot;/&gt;\\n'\n",
      "b'{{clear}}\\n'\n",
      "b'\\n'\n",
      "b'=== Propaganda of the deed and illegalism ===\\n'\n",
      "b'{{main|Propaganda of the deed|Illegalism|Expropriative anarchism}}\\n'\n",
      "b'[[File:Lugi Gallean2.jpg|thumb|upright|Italian American anarchist [[Luigi Galleani]] whose followers, known as [[Galleanists]], carried out a series of bombings and assassination attempts from 1914 to 1932 in what they saw as attacks on &quot;tyrants&quot; and &quot;enemies of the people&quot;]]\\n'\n",
      "b\"Some anarchists, such as [[Johann Most]], advocated publicising violent acts of retaliation against counter-revolutionaries because &quot;we preach not only action in and for itself, but also action as propaganda&quot;.&lt;ref&gt;{{cite web |url=http://dwardmac.pitzer.edu/Anarchist_Archives/bright/most/actionprop.html |title=&quot;Action as Propaganda&quot; by Johann Most, 25 July 1885 |publisher=Dwardmac.pitzer.edu |date=21 April 2003 |access-date=20 September 2010|archive-url=https://web.archive.org/web/20110521211430/http://dwardmac.pitzer.edu/Anarchist_Archives/bright/most/actionprop.html |archive-date=21 May 2011 }}&lt;/ref&gt; Scholars such as Beverly Gage contend that this was not advocacy of mass murder, but [[targeted killings]] of members of the [[ruling class]] at times when such actions might garner sympathy from the population, such as during periods of heightened government repression or labor conflicts where workers were killed.&lt;ref&gt;{{cite book|last=Gage|first=Beverly|title=The Day Wall Street Exploded: A Story of America in its First Age of Terror|location=New York|publisher=Oxford University Press|year=2009|isbn=978-0-19-975928-6|page=48}}&lt;/ref&gt; However, Most himself once boasted that &quot;the existing system will be quickest and most radically overthrown by the annihilation of its exponents. Therefore, massacres of the enemies of the people must be set in motion&quot;.&lt;ref&gt;{{cite web |url=https://www.vice.com/en_us/article/kill-the-banker-0000525-v21n12|title=When Revolution Came to America|last=Ketcham |first=Christopher |date= 16 December 2014|website=[[Vice (magazine)|Vice]] |publisher= |access-date=8 April 2017}}&lt;/ref&gt; Most is best known for a pamphlet published in 1885, ''The Science of Revolutionary Warfare'', a how-to manual on the subject of making explosives based on knowledge he acquired while working at an explosives plant in New Jersey.&lt;ref&gt;{{cite book |last=Most|first=Johann|date=1978 |title=Science of Revolutionary Warfare|url= |location= |publisher=Desert Publications|page=v|isbn=978-0-87947-211-5|author-link=Johann Most}}&lt;/ref&gt;\\n\"\n",
      "b'\\n'\n",
      "b\"By the 1880s, people inside and outside the anarchist movement began to use the slogan, &quot;propaganda of the deed&quot; to refer to individual bombings, [[regicide]]s and [[tyrannicide]]s. From 1905 onwards, the Russian counterparts of these anti-syndicalist anarchist-communists become partisans of economic terrorism and illegal &quot;[[Confiscation|expropriations]]&quot;.&lt;ref&gt;{{cite web|url=http://www.zabalaza.net/theory/txt_anok_comm_ap.htm |title=&quot;Anarchist-Communism&quot; by Alain Pengam |access-date=12 March 2009 |deadurl=yes |archiveurl=https://web.archive.org/web/20090312022528/http://www.zabalaza.net/theory/txt_anok_comm_ap.htm |archivedate=12 March 2009 |df= }}&lt;/ref&gt; [[Illegalism]] as a practice emerged and within it &quot;[t]he acts of the anarchist bombers and assassins (&quot;[[propaganda by the deed]]&quot;) and the anarchist burglars (&quot;[[individual reappropriation]]&quot;) expressed their desperation and their personal, violent rejection of an intolerable society. Moreover, they were clearly meant to be exemplary invitations to revolt&quot;.&lt;ref name=&quot;Imrie&quot;&gt;{{cite web|url=http://recollectionbooks.com/siml/library/illegalistsDougImrie.htm |title=The Illegalists |first=Doug|last= Imrie |work=recollectionbooks.com |deadurl=yes |archiveurl=https://web.archive.org/web/20150908072801/http://recollectionbooks.com/siml/library/illegalistsDougImrie.htm |archivedate=8 September 2015 |access-date=9 December 2010 }}&lt;/ref&gt; France's [[Bonnot Gang]] was the most famous group to embrace illegalism.\\n\"\n",
      "b'\\n'\n",
      "b\"However, important figures in the anarchist movement distanced themselves from such individual acts as soon as 1887. Peter Kropotkin thus wrote that year in ''Le R\\xc3\\xa9volt\\xc3\\xa9'' that &quot;a structure based on centuries of history cannot be destroyed with a few kilos of dynamite&quot;.&lt;ref&gt;quoted in [[James H. Billington|Billington, James H.]] 1998. ''[[Fire in the minds of men: origins of the revolutionary faith]]'' New Jersey: Transaction Books, p 417.&lt;/ref&gt; A variety of anarchists advocated the abandonment of these sorts of tactics in favour of collective revolutionary action, for example through the trade union movement. The anarcho-syndicalist [[Fernand Pelloutier]] argued in 1895 for renewed anarchist involvement in the labour movement on the basis that anarchism could do very well without &quot;the individual dynamiter&quot;.&lt;ref&gt;{{cite web |url=http://blackrosebooks.net/anarism1.htm |title=Table Of Contents |publisher=Blackrosebooks.net |date= |access-date=20 September 2010}}&lt;/ref&gt;\\n\"\n",
      "b'\\n'\n",
      "b\"[[Political repression|State repression]] (including the infamous 1894 French ''[[lois sc\\xc3\\xa9l\\xc3\\xa9rates]]'') of the anarchist and [[labour movement]]s following the few successful bombings and assassinations may have contributed in the first place to the abandonment of these kinds of tactics, although reciprocally state repression may have played a role in these isolated acts. The dismemberment of the French [[socialist movement]] into many groups and\\xe2\\x80\\x94following the suppression of the 1871\\xe2\\x80\\x94Paris Commune the execution and exile of many ''[[communards]]'' to [[penal colonies]] favoured individualist political expression and acts.&lt;ref&gt;Historian [[Benedict Anderson]] thus writes: {{quote| &quot;In March 1871 the Commune took power in the abandoned city and held it for two months. Then [[Adolphe Thiers|Versailles]] seized the moment to attack and, in one horrifying week, executed roughly 20,000 Communards or suspected sympathizers, a number higher than those killed in the recent war or during [[Robespierre]]'s '[[Reign of Terror|Terror]]' of 1793\\xe2\\x80\\x931794. More than 7,500 were jailed or deported to places like New Caledonia. Thousands of others fled to Belgium, England, Italy, Spain and the United States. In 1872, stringent laws were passed that ruled out all possibilities of organising on the left. Not till 1880 was there a general amnesty for exiled and imprisoned Communards. Meanwhile, the Third Republic found itself strong enough to renew and reinforce [[Napoleon III of France|Louis Napoleon]]'s imperialist expansion\\xe2\\x80\\x94in Indochina, Africa, and Oceania. Many of France's leading intellectuals and artists had participated in the Commune ([[Gustave Courbet|Courbet]] was its quasi-minister of culture, [[Arthur Rimbaud|Rimbaud]] and [[Pissarro]] were active propagandists) or were sympathetic to it. The ferocious repression of 1871 and thereafter, was probably the key factor in alienating these milieux from the Third Republic and stirring their sympathy for its victims at home and abroad.&quot; {{Cite journal | last = Anderson | first = Benedict | author-link = Benedict Anderson | title = In the World-Shadow of Bismarck and Nobel | journal = [[New Left Review]] | volume = II | issue = 28 | pages = 85\\xe2\\x80\\x93129 | date = July\\xe2\\x80\\x93August 2004 | url = http://newleftreview.org/II/28/benedict-anderson-in-the-world-shadow-of-bismarck-and-nobel | ref = harv | access-date = 2016-01-07 | archive-url = https://web.archive.org/web/20151219130121/http://newleftreview.org/II/28/benedict-anderson-in-the-world-shadow-of-bismarck-and-nobel | archive-date = 2015-12-19 }} }} According to some analysts, in [[History of Germany since 1945|post-war Germany]], the prohibition of the [[Communist Party of Germany|Communist Party]] (KDP) and thus of institutional far-left political organization may also, in the same manner, have played a role in the creation of the [[Red Army Faction]].&lt;/ref&gt;\\n\"\n",
      "b'\\n'\n",
      "b\"Numerous heads of state were assassinated between 1881 and 1914 by members of the anarchist movement, including Tsar [[Alexander II of Russia]], President [[Marie Fran\\xc3\\xa7ois Sadi Carnot|Sadi Carnot]] of France, Prime Minister [[Antonio C\\xc3\\xa1novas del Castillo]] of Spain, [[Empress Elisabeth of Austria]], King [[Umberto I of Italy]], President [[William McKinley]] of the United States, King [[Carlos I of Portugal]] and King [[George I of Greece]].&lt;ref&gt;{{cite book |last= Jun|first=Nathan|date=2011 |title=Anarchism and Political Modernity|url=https://books.google.com/books?id=cueoAwAAQBAJ&amp;lpg=PP1&amp;pg=PA109|location= |publisher=Continuum|page=109 |isbn=978-1-4411-6686-9}}&lt;/ref&gt; McKinley's assassin [[Leon Czolgosz]] claimed to have been influenced by anarchist and [[Feminism|feminist]] Emma Goldman.&lt;ref&gt;{{cite web|title = American Experience {{!}} Emma Goldman {{!}} Transcript {{!}} PBS|url = https://www.pbs.org/wgbh/amex/goldman/filmmore/pt.html|website = www.pbs.org|access-date = 12 January 2016}}&lt;/ref&gt;\\n\"\n",
      "b'\\n'\n",
      "b'=== Russian Revolution and other uprisings of the 1910s ===\\n'\n",
      "b'{{main|Anarchism in Russia|Russian Revolution (1917)||Revolutionary Insurrectionary Army of Ukraine|Revolutions of 1917\\xe2\\x80\\x9323}}\\n'\n",
      "b'[[File:Makhno group.jpg|thumb|left|[[Nestor Makhno]] with members of the anarchist [[Revolutionary Insurrectionary Army of Ukraine]]]]\\n'\n",
      "b'Anarchists participated alongside the [[Bolshevik]]s in both [[February Revolution|February]] and [[October Revolution|October revolutions]] and were initially enthusiastic about the Bolshevik revolution.&lt;ref&gt;{{cite book | last = Dirlik | first = Arif | title = Anarchism in the Chinese Revolution | publisher = University of California Press | location = Berkeley | year = 1991 | isbn = 978-0-520-07297-8 }}&lt;/ref&gt; However, following a political falling out with the Bolsheviks by the anarchists and other left-wing opposition the conflict culminated in the 1921 [[Kronstadt rebellion]], which the new government repressed. Anarchists in central Russia were either imprisoned, driven underground or joined the victorious Bolsheviks; the anarchists from Petrograd and Moscow fled to [[Ukraine]].&lt;ref&gt;{{cite book|last=Avrich|first=Paul|title=The Russian Anarchists|publisher=AK Press|location=Stirling|year=2006|isbn=978-1-904859-48-2|page=204}}&lt;/ref&gt; In the [[Free Territory]], they fought in the [[Russian Civil War|civil war]] against the [[White movement|Whites]] (a grouping of monarchists and other opponents of the October Revolution) and then the Bolsheviks as part of the Revolutionary Insurrectionary Army of Ukraine led by Nestor Makhno, who established an anarchist society in the region for a number of months.\\n'\n",
      "b'\\n'\n",
      "b\"Expelled American anarchists Emma Goldman and [[Alexander Berkman]] were among those agitating in response to Bolshevik policy and the suppression of the Kronstadt uprising, before they left Russia. Both wrote accounts of their experiences in Russia, criticising the amount of control the Bolsheviks exercised. For them, Bakunin's predictions about the consequences of Marxist rule that the rulers of the new &quot;socialist&quot; Marxist state would become a new elite had proved all too true.&lt;ref name=&quot;bakuninmarx&quot;&gt;&quot;[http://www.marxists.org/reference/archive/bakunin/works/1872/karl-marx.htm On the International Workingmen's Association and Karl Marx]&quot; in ''Bakunin on Anarchy'', translated and edited by Sam Dolgoff, 1971.&lt;/ref&gt;&lt;ref&gt;{{cite book|last=Goldman|first=Emma|title=My Disillusionment in Russia|chapter=Preface|page=xx|publisher=Dover Publications|location=New York|year=2003|isbn=978-0-486-43270-0|quote=My critic further charged me with believing that &quot;had the Russians made the Revolution \\xc3\\xa0 la Bakunin instead of \\xc3\\xa0 la Marx&quot; the result would have been different and more satisfactory. I plead guilty to the charge. In truth, I not only believe so; I am certain of it.}}&lt;/ref&gt;\\n\"\n",
      "b'\\n'\n",
      "b'The victory of the Bolsheviks in the October Revolution and the resulting Russian Civil War did serious damage to anarchist movements internationally. Many workers and activists saw Bolshevik success as setting an example and [[Communist party|communist parties]] grew at the expense of anarchism and other socialist movements. In France and the United States, for example, members of the major syndicalist movements of the [[General Confederation of Labour (France)|General Confederation of Labour]] and [[Industrial Workers of the World]] (IWW) left the organisations and joined the [[Comintern|Communist International]].&lt;ref&gt;{{cite book | editor1-last = Drachkovitch | editor1-first = Milorad M. |first=Max |last=Nomad |contribution=The Anarchist Tradition |title = Revolutionary Internationals 1864 1943 | publisher = Stanford University Press |page=88 | year = 1966 | isbn = 978-0-8047-0293-5 }}&lt;/ref&gt;\\n'\n",
      "b'\\n'\n",
      "b\"The [[Revolutions of 1917\\xe2\\x80\\x931923|revolutionary wave of 1917\\xe2\\x80\\x931923]] saw the active participation of anarchists in varying degrees of protagonism. In the German uprising known as the [[German Revolution of 1918\\xe2\\x80\\x9319]] which established the [[Bavarian Soviet Republic]], the anarchists [[Gustav Landauer]], [[Silvio Gesell]] and [[Erich M\\xc3\\xbchsam]] had important leadership positions within the revolutionary [[Council communism|councilist]] structures.&lt;ref&gt;&quot;The Munich Soviet (or &quot;Council Republic&quot;) of 1919 exhibited certain features of the TAZ, even though\\xe2\\x80\\x94like most revolutions\\xe2\\x80\\x94its stated goals were not exactly &quot;temporary.&quot; Gustav Landauer's participation as Minister of Culture along with Silvio Gesell as Minister of Economics and other anti-authoritarian and extreme libertarian socialists such as the poet/playwrights Erich M\\xc3\\xbchsam and Ernst Toller, and Ret Marut (the novelist B. Traven), gave the Soviet a distinct anarchist flavor.&quot; [[Hakim Bey]]. [http://www.theanarchistlibrary.org/HTML/Hakim_Bey__T.A.Z.__The_Temporary_Autonomous_Zone__Ontological_Anarchy__Poetic_Terrorism.html &quot;T.A.Z.: The Temporary Autonomous Zone, Ontological Anarchy, Poetic Terrorism&quot;]&lt;/ref&gt;&lt;ref name=&quot;br.de&quot;&gt;{{cite journal|url=http://www.br.de/themen/bayern/inhalt/geschichte/bayern-revolution-1919-erste-raeterepublik100.html |title=Die bayerische Revolution 1918/19: Die erste R\\xc3\\xa4terepublik: Literaten an der Macht |trans-title=The Bavarian Revolution 1918/19: The first Soviet Republic: Literati in Power |language=German |journal=Br.de |access-date=1 September 2012 |deadurl=no |archive-url=https://web.archive.org/web/20121120140503/http://www.br.de/themen/bayern/inhalt/geschichte/bayern-revolution-1919-erste-raeterepublik100.html |archive-date=20 November 2012 |df= |date=2008-11-24 |last1=Rundfunk |first1=Bayerischer }}&lt;/ref&gt; In the Italian events known as the ''[[biennio rosso]]'',&lt;ref name=&quot;Dallacasa&quot;&gt;Brunella Dalla Casa, ''Composizione di classe, rivendicazioni e professionalit\\xc3\\xa0 nelle lotte del &quot;biennio rosso&quot; a Bologna'', in: AA. VV, ''Bologna 1920; le origini del fascismo'', a cura di Luciano Casali, Cappelli, Bologna 1982, p. 179.&lt;/ref&gt; the anarcho-syndicalist trade union [[Unione Sindacale Italiana]] &quot;grew to 800,000 members and the influence of the Italian Anarchist Union (20,000 members plus ''[[Umanita Nova]]'', its daily paper) grew accordingly&amp;nbsp;[...] Anarchists were the first to suggest occupying workplaces.&quot;&lt;ref&gt;{{cite web|url=http://libcom.org/history/articles/italy-factory-occupations-1920|title=1918\\xe2\\x80\\x931921: The Italian factory occupations and Biennio Rosso|work=libcom.org|access-date=31 July 2011|archive-url=https://web.archive.org/web/20111105224302/http://libcom.org/history/articles/italy-factory-occupations-1920|archive-date=5 November 2011}}&lt;/ref&gt; In the [[Mexican Revolution]], the [[Mexican Liberal Party]] was established and during the early 1910s it led  a series of military offensives leading to the conquest and occupation of certain towns and districts in [[Baja California]] with the leadership of anarcho-communist [[Ricardo Flores Mag\\xc3\\xb3n]].&lt;ref&gt;{{cite web|url=https://www.sandiegohistory.org/journal/1999/january/magonista/ |title=The Magonista Revolt in Baja California |first=Lawrence D. |last=Taylor|year=1999|work=Journal of San Diego History|deadurl=no |archiveurl=https://web.archive.org/web/20160629114820/http://www.sandiegohistory.org/journal/1999/january/magonista/ |archivedate=29 June 2016 |access-date=31 July 2011 }}&lt;/ref&gt;\\n\"\n",
      "b'\\n'\n",
      "b\"In Paris, the [[Dielo Truda]] group of Russian anarchist exiles, which included Nestor Makhno, concluded that anarchists needed to develop new forms of organisation in response to the structures of Bolshevism. Their 1926 manifesto, called the ''[[Platformism|Organisational Platform of the General Union of Anarchists (Draft)]]'',&lt;ref name=Platformtext&gt;{{cite book |last=Dielo Trouda |authorlink=Dielo Truda |title=Organizational Platform of the General Union of Anarchists (Draft) |origyear=1926 |url=http://www.anarkismo.net/newswire.php?story_id=1000 |access-date=24 October 2006 |year=2006 |publisher=FdCA |location=Italy| archiveurl= https://web.archive.org/web/20070311013533/http://www.anarkismo.net/newswire.php?story_id=1000| archivedate= 11 March 2007&lt;!--Added by DASHBot--&gt;}}&lt;/ref&gt; was supported. [[Platformist]] groups active today include the [[Workers Solidarity Movement]] in Ireland and the [[NEFAC|North Eastern Federation of Anarchist Communists]] of North America. [[Synthesis anarchism]] emerged as an organisational alternative to platformism that tries to join anarchists of different tendencies under the principles of [[anarchism without adjectives]].&lt;ref name=&quot;infoshop1&quot;&gt;{{cite web |author=Starhawk |url=http://www.infoshop.org/page/AnarchistFAQSectionJ3 |title=&quot;J.3.2 What are &quot;synthesis&quot; federations?&quot;|work=[[An Anarchist FAQ]]|publisher=Infoshop.org |date= |access-date=20 September 2010| archiveurl= https://web.archive.org/web/20101007160139/http://www.infoshop.org/page/AnarchistFAQSectionJ3| archivedate= 7 October 2010&lt;!--Added by DASHBot--&gt;}}&lt;/ref&gt; In the 1920s, this form found as its main proponents [[Volin]] and [[Sebastien Faure]].&lt;ref name=&quot;infoshop1&quot; /&gt; It is the main principle behind the anarchist federations grouped around the contemporary global [[International of Anarchist Federations]].&lt;ref name=&quot;infoshop1&quot;/&gt;\\n\"\n",
      "b'\\n'\n",
      "b'=== Conflicts with European fascist regimes ===\\n'\n",
      "b'{{main|Anti-fascism}}\\n'\n",
      "b'{{see also|Anarchism in France|Anarchism in Italy|Anarchism in Spain|Anarchism in Germany}}\\n'\n",
      "b\"In the 1920s and 1930s, the rise of [[fascism in Europe]] transformed anarchism's conflict with the state. Italy saw the first struggles between anarchists and [[Benito Mussolini]]'s [[Fascism|fascists]]. Italian anarchists played a key role in the [[Anti-fascism|anti-fascist]] organisation ''[[Arditi del Popolo]]'', which was strongest in areas with anarchist traditions and achieved some success in their activism, such as repelling [[Blackshirts]] in the anarchist stronghold of [[Parma]] in August 1922.&lt;ref&gt;Holbrow, Marnie, [http://www.socialistreview.org.uk/article.php?articlenumber=8205 &quot;Daring but Divided&quot;] (''Socialist Review'' November 2002).&lt;/ref&gt; The veteran Italian anarchist Luigi Fabbri was one of the first critical theorists of fascism, describing it as &quot;the preventive counter-revolution&quot;.{{sfn|Graham|2005}} In France, where the [[far-right leagues]] came close to insurrection in the [[6 February 1934 crisis|February 1934 riots]], anarchists divided over a [[united front]] policy.&lt;ref&gt;Berry, David. &quot;Fascism or Revolution.&quot; ''Le Libertaire''. August 1936.&lt;/ref&gt;\\n\"\n",
      "b'\\n'\n",
      "b'[[Anarchism in France|Anarchists in France]]&lt;ref&gt;{{cite web|url=http://flag.blackened.net/revolt/anarchism/texts/war/anarFranceWW2.html|title=Anarchist Activity in France during World War Two|work=blackened.net|access-date=22 December 2010|archive-url=https://web.archive.org/web/20120306024016/http://flag.blackened.net/revolt/anarchism/texts/war/anarFranceWW2.html|archive-date=6 March 2012}}&lt;/ref&gt; and [[Anarchism in Italy|Italy]]&lt;ref&gt;{{cite web|url=http://libcom.org/history/articles/italian-resistance-anarchist-partisans-1943|title=1943\\xe2\\x80\\x931945: Anarchist partisans in the Italian Resistance|work=libcom.org|access-date=22 December 2010|archive-url=https://web.archive.org/web/20100720232747/http://libcom.org/history/articles/italian-resistance-anarchist-partisans-1943|archive-date=20 July 2010}}&lt;/ref&gt; were active in the [[Resistance during World War II]]. In Germany, the anarchist [[Erich M\\xc3\\xbchsam]] was arrested on charges unknown in the early morning hours of 28 February 1933, within a few hours after the [[Reichstag fire]] in Berlin. [[Joseph Goebbels]], the [[Nazi Party|Nazi]] [[Reich Ministry of Public Enlightenment and Propaganda|propaganda minister]], labelled him as one of &quot;those Jewish subversives&quot;. Over the next seventeen months, he would be imprisoned in the concentration camps at [[Sonnenburg]], Brandenburg and finally, [[Oranienburg]]. On 2 February 1934, M\\xc3\\xbchsam was transferred to the [[Nazi concentration camps|concentration camp]] at [[Oranienburg concentration camp|Oranienburg]] when finally on the night of 9 July 1934, M\\xc3\\xbchsam was tortured and murdered by the guards, his battered corpse found hanging in a latrine the next morning.&lt;ref name=&quot;Shepherd&quot;&gt;{{cite book |last=M\\xc3\\xbchsam|first=Erich|editor=David A. Shepherd|title=Thunderation!/Alle Wetter!: Folk Play With Song and Dance/Volksstuck Mit Gesang Und Tanz|url=https://books.google.com/?id=jspUxzlyZIQC&amp;pg=PA18&amp;dq=%22Erich+M%C3%BChsam%22+Oranienburg|year=2001|publisher=Bucknell University Press|isbn=978-0-8387-5416-0|page=18|access-date=29 October 2015}}&lt;/ref&gt;\\n'\n",
      "b'\\n'\n",
      "b'=== Spanish Revolution ===\\n'\n",
      "b'{{main|Spanish Revolution of 1936}}\\n'\n",
      "b'\\n'\n",
      "b\"In Spain, the national anarcho-syndicalist trade union CNT initially refused to join a popular front electoral alliance and abstention by CNT supporters led to a right-wing election victory. In 1936, the CNT changed its policy and anarchist votes helped bring the popular front back to power. Months later, conservative members of the military, with the support of minority extreme-right parties, responded with an attempted coup, causing the Spanish Civil War (1936\\xe2\\x80\\x931939).&lt;ref&gt;{{cite book|last=Beevor|first=Antony|authorlink=Antony Beevor|year=2006|page=46|title=The Battle for Spain: The Spanish Civil War 1936\\xe2\\x80\\x931939|publisher=Weidenfeld &amp; Nicolson|location=London|isbn=978-0-297-84832-5}}&lt;/ref&gt; In response to the army rebellion, an [[Anarchism in Spain|anarchist-inspired]] movement of peasants and workers, supported by armed militias, took control of [[Barcelona]] and of large areas of rural Spain where they [[Collective farming|collectivised]] the land.&lt;ref name=&quot;Bolloten 1984, p.54&quot;&gt;{{cite book | last = Bolloten | first = Burnett | authorlink = Burnett Bolloten | title = The Spanish Civil War: Revolution and Counterrevolution | publisher = University of North Carolina Press | year= 1984 |  page =1107 |    isbn = 978-0-8078-1906-7 }}&lt;/ref&gt; However, the anarchists were losing ground even before the fascist victory in 1939 in a bitter struggle with the [[Stalinism|Stalinists]], who controlled much of the distribution of military aid to the [[Republican faction (Spanish Civil War)|Republicans]] cause from the [[Soviet Union]]. According to [[Noam Chomsky]], &quot;the communists were mainly responsible for the destruction of the Spanish anarchists. Not just in Catalonia\\xe2\\x80\\x94the communist armies mainly destroyed the collectives elsewhere. The communists basically acted as the police force of the security system of the [[Second Spanish Republic|Republic]] and were very much opposed to the anarchists, partially because [[Joseph Stalin|Stalin]] still hoped at that time to have some kind of pact with Western countries against [[Adolf Hitler]]. That failed and Stalin withdrew the support to the Republic. They even withdrew the Spanish gold reserves&quot;.&lt;ref&gt;[http://thehumanist.com/magazine/july-august-2016/features/rescuing-memory &quot;Rescuing Memory: the Humanist Interview with Noam Chomsky&quot;] [[The Humanist]] TheHumanist.com N. p., 2016. Web. 30 June 2016.&lt;/ref&gt; The events known as the [[Spanish Revolution of 1936|Spanish Revolution]] was a workers' social revolution that began during the outbreak of the [[Spanish Civil War]] in 1936 and resulted in the widespread implementation of anarchist and more broadly [[Libertarian socialism|libertarian socialist]] organisational principles throughout various portions of the country for two to three years, primarily [[Catalonia]], [[Anarchist Aragon|Aragon]], [[Andalusia]] and parts of [[Levante, Spain|Levante]]. Much of Spain's economy was put under worker control and in anarchist strongholds like Catalonia the figure was as high as 75%, but lower in areas with heavy [[Communist Party of Spain]] influence as the Soviet-allied party actively resisted attempts at collectivisation enactment. Factories were run through worker committees, [[Agriculture|agrarian]] areas became collectivised and run as libertarian [[commune]]s. Anarchist historian [[Sam Dolgoff]] estimated that about eight million people participated directly or at least indirectly in the Spanish Revolution,&lt;ref name=Dolgoff1974&gt;{{cite book|title=The Anarchist Collectives: Workers' Self-Management in the Spanish Revolution|year=1974|author=Dolgoff, S.|isbn=978-0-914156-03-1|ref=harv|title-link=The Anarchist Collectives}}&lt;/ref&gt; which he claimed &quot;came closer to realising the ideal of the free stateless society on a vast scale than any other revolution in history&quot;.&lt;ref&gt;Dolgoff (1974), p. 5&lt;/ref&gt; Spanish Communist Party-led troops suppressed the collectives and persecuted both [[POUM|dissident Marxists]] and anarchists.&lt;ref&gt;{{cite book |isbn=978-1-57181-542-2 |page=29 |title=Sartre Against Stalinism |first=Ian |last=Birchall |year=2004 |publisher=Berghahn Books}}&lt;/ref&gt; The prominent Italian anarchist [[Camillo Berneri]], who volunteered to fight against [[Francisco Franco]] was killed instead in Spain by gunmen associated with the Spanish Communist Party.&lt;ref&gt;&quot;When clashes with the Communist Party broke out, his house, where he lived with other anarchists, was attacked on 4 May 1937. They were all labelled &quot;counter-revolutionaries&quot;, disarmed, deprived of their papers and forbidden to go out into the street. There was still shooting in the streets when, on 5 May 1937, news arrived from Italy of Antonio Gramsci's death in a fascist prison...Leaving Radio Barcelona, Berneri set off for the Pla\\xc3\\xa7a de la Generalitat, where some Stalinists shouted after him. Before he could turn and look, they opened fire with machine guns, and left his dead body there on the street.&quot;[http://libcom.org/history/berneri-luigi-camillo-1897-1937 &quot;Berneri, Luigi Camillo, 1897\\xe2\\x80\\x931937&quot; at libcom.com]&lt;/ref&gt;&lt;ref&gt;[[Paul Avrich]]. ''[[Anarchist Voices: An Oral History of Anarchism in America]]''. AK Press. 2005. p. 516.&lt;/ref&gt;&lt;ref&gt;{{cite web |quote=Spain: Return to &quot;normalization&quot; in Barcelona. The Republican government had sent troops to take over the telephone exchange on 3 May, pitting the anarchists &amp; Poumists on one side against the Republican government &amp; the Stalinist Communist Party on the other, in pitched street battles, resulting in 500 anarchists killed. Squads of Communist Party members took to the streets on 6 May to assassinate leading anarchists. Today, among those found murdered, was the Italian anarchist Camillo Berneri |url=http://recollectionbooks.com/bleed/Encyclopedia/BerneriCamillo.htm |title=Camillo Berneri |work=The Anarchist Encyclopedia: A Gallery of Saints &amp; Sinners ... |archive-url=https://web.archive.org/web/20060219235710/http://recollectionbooks.com/bleed/Encyclopedia/BerneriCamillo.htm |archive-date=19 February 2006}}&lt;/ref&gt; The city of [[Madrid]] was turned over to the Francoist forces by the last non-francoist mayor of the city, the anarchist [[Melchor Rodr\\xc3\\xadguez Garc\\xc3\\xada]].&lt;ref&gt;&quot;S\\xc3\\xad se ha aprobado por unanimidad, tambi\\xc3\\xa9n a propuesta de Ciudadanos, dedicar una calle al anarquista Melchor Rodr\\xc3\\xadguez Garc\\xc3\\xada, el \\xc3\\xbaltimo alcalde de Madrid republicano, ante &quot;el gran consenso social y pol\\xc3\\xadtico&quot; al respecto y por &quot;su gran relevancia para la reconciliaci\\xc3\\xb3n y la concordia tras la Guerra Civil&quot;. ''[[El Pa\\xc3\\xads]]''. [http://ccaa.elpais.com/ccaa/2016/01/27/madrid/1453905439_934798.html?rel=cx_articulo#cxrecs_s &quot;Madrid sustituir\\xc3\\xa1 las calles franquistas por v\\xc3\\xadctimas del terrorismo&quot;].&lt;/ref&gt;\\n\"\n",
      "b'\\n'\n",
      "b'=== Post-war years ===\\n'\n",
      "b'{{Libertarian socialism}}\\n'\n",
      "b\"&lt;!-- Commented out: [[File:Paul Goodman.jpg|thumb|[[Paul Goodman (writer)|Paul Goodman]], influential American anarchist author of ''[[Growing Up Absurd|Growing Up Absurd: Problems of Youth in the Organized Society]]'' among other works critical of contemporary societies]] --&gt;\\n\"\n",
      "b\"Anarchism sought to reorganise itself after the war and in this context the organisational debate between synthesis anarchism and platformism took importance once again especially in the [[Anarchism in Italy#Postwar years and today|anarchist movements of Italy]] and [[Anarchism in France#The Fourth Republic (1945\\xe2\\x80\\x931958)|France]]. The [[Mexican Anarchist Federation]] was established in 1945 after the Anarchist Federation of the Centre united with the Anarchist Federation of the Federal District.&lt;ref&gt;{{cite web|url=http://www.portaloaca.com/historia/historia-libertaria/1735-regeneracion-y-la-federacion-anarquista-mexicana-1952-1960-tesis.html|title=Regeneraci\\xc3\\xb3n y la Federaci\\xc3\\xb3n Anarquista Mexicana (1952\\xe2\\x80\\x931960) [Tesis] \\xe2\\x80\\x93 Portal Libertario OACA|author=Coordinaci\\xc3\\xb3n del Portal Libertario OACA|work=portaloaca.com|access-date=11 July 2011|archive-url=https://web.archive.org/web/20110726051942/http://www.portaloaca.com/historia/historia-libertaria/1735-regeneracion-y-la-federacion-anarquista-mexicana-1952-1960-tesis.html|archive-date=26 July 2011}}&lt;/ref&gt; In the early 1940s, the Antifascist International Solidarity and the Federation of Anarchist Groups of Cuba merged into the large national organisation Asociaci\\xc3\\xb3n Libertaria de Cuba (Cuban Libertarian Association).&lt;ref&gt;&quot;The surviving sectors of the revolutionary anarchist movement of the 1920\\xe2\\x80\\x931940 period, now working in the SIA and the FGAC, reinforced by those Cuban militants and Spanish anarchists fleeing now-fascist Spain, agreed at the beginning of the decade to hold an assembly with the purpose of regrouping the libertarian forces inside a single organization. The guarantees of the 1940 Constitution permitted them to legally create an organization of this type, and it was thus that they agreed to dissolve the two principal Cuban anarchist organizations, the SIA and FGAC, and create a new, unified group, the Asociaci\\xc3\\xb3n Libertaria de Cuba (ALC), a sizable organization with a membership in the thousands.&quot;[http://www.theanarchistlibrary.org/HTML/Frank_Fernandez__Cuban_Anarchism__The_History_of_A_Movement.html#toc8 ''Cuban Anarchism: The History of A Movement'' by Frank Fernandez]&lt;/ref&gt; From 1944 to 1947, the Bulgarian Anarchist Communist Federation reemerged as part of a factory and workplace committee movement, but was repressed by the new Communist regime.&lt;ref name=&quot;robertgraham.wordpress.com&quot;&gt;{{cite web|url=http://robertgraham.wordpress.com/anarchism-a-documentary-history-of-libertarian-ideas-volume-two-the-emergence-of-the-new-anarchism-1939-1977/|title=Anarchism: A Documentary History of Libertarian Ideas, Volume Two: The Emergence of the New Anarchism (1939\\xe2\\x80\\x931977)|work=Robert Graham's Anarchism Weblog|access-date=5 March 2011|archive-url=https://web.archive.org/web/20101028071133/http://robertgraham.wordpress.com/anarchism-a-documentary-history-of-libertarian-ideas-volume-two-the-emergence-of-the-new-anarchism-1939-1977/|archive-date=28 October 2010|date=2008-12-14}}&lt;/ref&gt; In 1945 in France the [[F\\xc3\\xa9d\\xc3\\xa9ration Anarchiste]] and the anarchosyndicalist trade union [[Conf\\xc3\\xa9d\\xc3\\xa9ration nationale du travail]] was established in the next year while the also [[Synthesist anarchism|synthesist]] [[Federazione Anarchica Italiana]] was founded in Italy. Korean anarchists formed the League of Free Social Constructors in September 1945&lt;ref name=&quot;robertgraham.wordpress.com&quot; /&gt; and in 1946 the [[Japanese Anarchist Federation]] was founded.&lt;ref&gt;[http://flag.blackened.net/af/ace/japchap3.html The Anarchist Movement in Japan Anarchist Communist Editions \\xc2\\xa7 ACE Pamphlet No. 8] {{webarchive|url=https://archive.is/20120726135313/http://flag.blackened.net/af/ace/japchap3.html |date=26 July 2012 }}&lt;/ref&gt; An International Anarchist Congress with delegates from across Europe was held in Paris in May 1948.&lt;ref name=&quot;robertgraham.wordpress.com&quot; /&gt; After World War II, an appeal in the ''[[Fraye Arbeter Shtime]]'' detailing the plight of [[Anarchism in Germany|German anarchists]] and called for Americans to support them. By February 1946, the sending of aid parcels to anarchists in Germany was a large-scale operation. The Federation of Libertarian Socialists was founded in Germany in 1947 and Rudolf Rocker wrote for its organ, ''Die Freie Gesellschaft'', which survived until 1953.&lt;ref&gt;{{cite journal |last=Vallance |date=1 July 1973 |first=Margaret |title=Rudolf Rocker \\xe2\\x80\\x93 a biographical sketch |journal=[[Journal of Contemporary History]] |volume=8 |issue=3 |pages=75\\xe2\\x80\\x9395 |place=London/Beverly Hills |doi=10.1177/002200947300800304 |issn=0022-0094 |oclc=49976309 |ref=harv }} pp. 94\\xe2\\x80\\x9395&lt;/ref&gt; In 1956, the [[Uruguayan Anarchist Federation]] was founded.&lt;ref&gt;{{cite web|url=http://www.anarkismo.net/newswire.php?story_id=3701|title=50 a\\xc3\\xb1os de la Federaci\\xc3\\xb3n Anarquista Uruguaya|work=anarkismo.net|access-date=22 December 2010}}&lt;/ref&gt; In 1955, the Anarcho-Communist Federation of Argentina renamed itself as the [[Argentine Libertarian Federation]]. The [[Syndicalist Workers' Federation]] (SWF) was a syndicalist group in active in post-war Britain,&lt;ref name=&quot;Political Encyclopedia&quot;&gt;{{cite book|title=Encyclopedia of British and Irish Political Organizations'|year=2000|publisher=Pinter Publishers|location=UK|isbn=978-1-85567-264-2}}&lt;/ref&gt; and one of [[Solidarity Federation]]'s earliest predecessors. It was formed in 1950 by members of the dissolved Anarchist Federation of Britain (AFB).&lt;ref name=&quot;Political Encyclopedia&quot; /&gt; Unlike the AFB, which was influenced by anarcho-syndicalist ideas but ultimately not syndicalist itself, the SWF decided to pursue a more definitely syndicalist, worker-centred strategy from the outset.&lt;ref name=&quot;Political Encyclopedia&quot; /&gt;\\n\"\n"
     ]
    }
   ],
   "source": [
    "i = 0\n",
    "for line in bz2.BZ2File(wiki_dump):\n",
    "    print(line)\n",
    "    i += 1\n",
    "    if i > 2e+2: break"
   ]
  },
  {
   "cell_type": "code",
   "execution_count": 51,
   "metadata": {},
   "outputs": [
    {
     "name": "stdout",
     "output_type": "stream",
     "text": [
      "258\n",
      "661\n",
      "1010\n",
      "1444\n",
      "1759\n",
      "2104\n",
      "2414\n",
      "2721\n",
      "3126\n",
      "3491\n",
      "3874\n",
      "4189\n",
      "4519\n",
      "4868\n",
      "5248\n",
      "5553\n",
      "5861\n",
      "6186\n",
      "6572\n",
      "6842\n",
      "7199\n",
      "7495\n",
      "7808\n",
      "8038\n",
      "8375\n",
      "8807\n",
      "9118\n",
      "9422\n",
      "9696\n",
      "9981\n",
      "10326\n",
      "10682\n",
      "10982\n",
      "11321\n",
      "11661\n",
      "12004\n",
      "12442\n",
      "12849\n",
      "13114\n",
      "13502\n",
      "13789\n",
      "14130\n",
      "14477\n",
      "14862\n",
      "15178\n",
      "\n",
      "data/enwiki-20190220-pages-articles-multistream1.xml-p10p30302.bz2 preprocessed in 867 seconds\n",
      "\n",
      "15395 pages found in data/enwiki-20190220-pages-articles-multistream1.xml-p10p30302.bz2\n"
     ]
    }
   ],
   "source": [
    "b = preprocess_pages(wiki_dump, False)"
   ]
  },
  {
   "cell_type": "code",
   "execution_count": 26,
   "metadata": {},
   "outputs": [
    {
     "data": {
      "text/plain": [
       "'12'"
      ]
     },
     "execution_count": 26,
     "metadata": {},
     "output_type": "execute_result"
    }
   ],
   "source": [
    "b._pages[0][0]"
   ]
  },
  {
   "cell_type": "code",
   "execution_count": 2,
   "metadata": {},
   "outputs": [
    {
     "data": {
      "text/plain": [
       "0.0"
      ]
     },
     "execution_count": 2,
     "metadata": {},
     "output_type": "execute_result"
    }
   ],
   "source": [
    "130000 % 1e+4"
   ]
  },
  {
   "cell_type": "code",
   "execution_count": null,
   "metadata": {},
   "outputs": [],
   "source": [
    "def do_something(i):\n",
    "    print(i)\n",
    "    return i*10\n",
    "\n",
    "a = [1, 2, 3, 4, 5, 6, 7, 8, 9, 10]\n",
    "\n",
    "if __name__ == '__main__':\n",
    "    pool = Pool(processes=4)\n",
    "\n",
    "    results = pool.map(do_something, a)\n",
    "\n",
    "    pool.close()\n",
    "    pool.join()"
   ]
  },
  {
   "cell_type": "code",
   "execution_count": null,
   "metadata": {},
   "outputs": [],
   "source": []
  },
  {
   "cell_type": "code",
   "execution_count": null,
   "metadata": {},
   "outputs": [],
   "source": []
  },
  {
   "cell_type": "code",
   "execution_count": null,
   "metadata": {},
   "outputs": [],
   "source": []
  },
  {
   "cell_type": "code",
   "execution_count": null,
   "metadata": {},
   "outputs": [],
   "source": []
  },
  {
   "cell_type": "code",
   "execution_count": null,
   "metadata": {},
   "outputs": [],
   "source": []
  },
  {
   "cell_type": "code",
   "execution_count": null,
   "metadata": {},
   "outputs": [],
   "source": []
  },
  {
   "cell_type": "code",
   "execution_count": null,
   "metadata": {},
   "outputs": [],
   "source": []
  },
  {
   "cell_type": "code",
   "execution_count": null,
   "metadata": {},
   "outputs": [],
   "source": []
  },
  {
   "cell_type": "code",
   "execution_count": null,
   "metadata": {},
   "outputs": [],
   "source": []
  },
  {
   "cell_type": "code",
   "execution_count": null,
   "metadata": {},
   "outputs": [],
   "source": []
  },
  {
   "cell_type": "code",
   "execution_count": null,
   "metadata": {},
   "outputs": [],
   "source": []
  },
  {
   "cell_type": "code",
   "execution_count": null,
   "metadata": {},
   "outputs": [],
   "source": []
  }
 ],
 "metadata": {
  "kernelspec": {
   "display_name": "Python 3",
   "language": "python",
   "name": "python3"
  },
  "language_info": {
   "codemirror_mode": {
    "name": "ipython",
    "version": 3
   },
   "file_extension": ".py",
   "mimetype": "text/x-python",
   "name": "python",
   "nbconvert_exporter": "python",
   "pygments_lexer": "ipython3",
   "version": "3.7.1"
  }
 },
 "nbformat": 4,
 "nbformat_minor": 2
}
