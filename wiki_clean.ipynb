{
 "cells": [
  {
   "cell_type": "code",
   "execution_count": 1,
   "metadata": {},
   "outputs": [],
   "source": [
    "import numpy as np\n",
    "import pandas as pd\n",
    "import bz2\n",
    "import xml.sax\n",
    "import mwparserfromhell\n",
    "from time import time"
   ]
  },
  {
   "cell_type": "code",
   "execution_count": 2,
   "metadata": {},
   "outputs": [],
   "source": [
    "wiki_dump = 'enwiki-20190101-pages-articles-multistream.xml.bz2'\n",
    "# index = 'enwiki-20190101-pages-articles-multistream-index.txt.bz2'"
   ]
  },
  {
   "cell_type": "code",
   "execution_count": 3,
   "metadata": {},
   "outputs": [],
   "source": [
    "class WikiXMLHandler(xml.sax.handler.ContentHandler):\n",
    "    \"\"\"Content handler for Wiki XML data using SAX\"\"\"\n",
    "    def __init__(self):\n",
    "        xml.sax.handler.ContentHandler.__init__(self)\n",
    "        self._buffer = None\n",
    "        self._values = {}\n",
    "        self._current_tag = None\n",
    "        self._pages = []\n",
    "        self._books = []\n",
    "        \n",
    "        \n",
    "    def characters(self, content):\n",
    "        \"\"\"Characters between opening and closing tags\"\"\"\n",
    "        if self._current_tag:\n",
    "            self._buffer.append(content)\n",
    "            \n",
    "            \n",
    "    def startElement(self, name, attrs):\n",
    "        \"\"\"Opening tag of element\"\"\"\n",
    "        if name in ('title', 'text'):\n",
    "            self._current_tag = name\n",
    "            self._buffer = []\n",
    "            \n",
    "        \n",
    "    def endElement(self, name):\n",
    "        \"\"\"Closing tag of element\"\"\"\n",
    "        if name == self._current_tag:\n",
    "            self._values[name] = ' '.join(self._buffer)\n",
    "        if name == 'page':\n",
    "            self._pages.append((self._values['title'], self._values['text']))\n",
    "            self._article_count = len(self._pages)\n",
    "            # Send the page to the process article function\n",
    "            book = process_article(**self._values,\n",
    "                                   template = 'Infobox book')\n",
    "            # If article is a book append to list of books\n",
    "            if book:\n",
    "                self._books.append(book)"
   ]
  },
  {
   "cell_type": "code",
   "execution_count": 6,
   "metadata": {},
   "outputs": [],
   "source": [
    "# Object for handling xml\n",
    "handler = WikiXMLHandler()\n",
    "\n",
    "# Parsing object\n",
    "parser = xml.sax.make_parser()\n",
    "parser.setContentHandler(handler)\n",
    "\n",
    "# Iteratively process file\n",
    "for line in bz2.BZ2File(wiki_dump, 'r'):\n",
    "    parser.feed(line)\n",
    "    \n",
    "    # Stop when 3 articles have been found\n",
    "    if len(handler._pages) > 2:\n",
    "        break"
   ]
  },
  {
   "cell_type": "code",
   "execution_count": 7,
   "metadata": {},
   "outputs": [
    {
     "data": {
      "text/plain": [
       "('AccessibleComputing',\n",
       " '#REDIRECT [[Computer accessibility]] \\n \\n {{R from move}} \\n {{R from CamelCase}} \\n {{R unprintworthy}}')"
      ]
     },
     "execution_count": 7,
     "metadata": {},
     "output_type": "execute_result"
    }
   ],
   "source": [
    "handler._pages[0]"
   ]
  },
  {
   "cell_type": "code",
   "execution_count": 8,
   "metadata": {},
   "outputs": [
    {
     "data": {
      "text/plain": [
       "['Computer accessibility']"
      ]
     },
     "execution_count": 8,
     "metadata": {},
     "output_type": "execute_result"
    }
   ],
   "source": [
    "# Create the wiki article\n",
    "wiki = mwparserfromhell.parse(handler._pages[0][1])\n",
    "\n",
    "# Find the wikilinks\n",
    "wikilinks = [x.title for x in wiki.filter_wikilinks()]\n",
    "wikilinks[:5]"
   ]
  },
  {
   "cell_type": "code",
   "execution_count": 9,
   "metadata": {},
   "outputs": [
    {
     "data": {
      "text/plain": [
       "'REDIRECT Computer accessibility'"
      ]
     },
     "execution_count": 9,
     "metadata": {},
     "output_type": "execute_result"
    }
   ],
   "source": [
    "wiki.strip_code().strip()"
   ]
  },
  {
   "cell_type": "code",
   "execution_count": 10,
   "metadata": {},
   "outputs": [
    {
     "data": {
      "text/plain": [
       "['{{R from move}}', '{{R from CamelCase}}', '{{R unprintworthy}}']"
      ]
     },
     "execution_count": 10,
     "metadata": {},
     "output_type": "execute_result"
    }
   ],
   "source": [
    "wiki.filter_templates('Infobox book')"
   ]
  },
  {
   "cell_type": "code",
   "execution_count": 11,
   "metadata": {},
   "outputs": [],
   "source": [
    "def process_article(title, text, template='Infobox book'):\n",
    "    \"\"\"Process a wikipedia article looking for template\"\"\"\n",
    "    # Create a parsing object\n",
    "    wikicode = mwparserfromhell.parse(text)\n",
    "    # Search through templates for the template\n",
    "    matches = wikicode.filter_templates(matches=template)\n",
    "    if len(matches) >= 1:\n",
    "        # Extract information from infobox\n",
    "        properties = {param.name.strip_code().strip(): param.value.strip_code().strip()\n",
    "                      for param in matches[0].params\n",
    "                      if param.value.strip_code().strip()}\n",
    "        # Extract internal wikilinks\n",
    "        wikilinks = [x.title.strip_code().strip() for x in wikicode.filter_wikilinks()]\n",
    "        # Extract external links\n",
    "        exlinks = [x.url.strip_code().strip() for x in wikicode.filter_external_links()]\n",
    "        return (title, properties, wikilinks, exlinks)"
   ]
  },
  {
   "cell_type": "code",
   "execution_count": 13,
   "metadata": {},
   "outputs": [
    {
     "name": "stdout",
     "output_type": "stream",
     "text": [
      "\n",
      "Searched through 409 articles\n",
      "\n",
      "Found 4 books in 8 seconds\n"
     ]
    }
   ],
   "source": [
    "# Object for handling xml\n",
    "handler = WikiXMLHandler()\n",
    "# Parsing object\n",
    "parser = xml.sax.make_parser()\n",
    "parser.setContentHandler(handler)\n",
    "start = time()\n",
    "# Parse the entire file\n",
    "i = 0\n",
    "for line in bz2.BZ2File(wiki_dump):\n",
    "    try:\n",
    "        parser.feed(line)\n",
    "    except StopIteration:\n",
    "        break\n",
    "    i += 1\n",
    "    if i > 1e+5: break\n",
    "end = time()\n",
    "books = handler._books\n",
    "\n",
    "print(f'\\nSearched through {handler._article_count} articles')\n",
    "print(f'\\nFound {len(books)} books in {round(end-start)} seconds')"
   ]
  },
  {
   "cell_type": "code",
   "execution_count": 14,
   "metadata": {},
   "outputs": [
    {
     "data": {
      "text/plain": [
       "('A Clockwork Orange (novel)',\n",
       " {'name': 'A Clockwork Orange',\n",
       "  'image': 'Clockwork orange.jpg',\n",
       "  'caption': 'Dust jacket from the first edition',\n",
       "  'cover_artist': 'Barry Trengrove < ref > Urgent Copy exhibition: A Clockwork Orange (1962) | International Anthony Burgess Foundation Retrieved 2015-11-26. < /ref >',\n",
       "  'author': 'Anthony Burgess',\n",
       "  'country': 'United Kingdom',\n",
       "  'language': 'English < br > Nadsat',\n",
       "  'genre': 'Science fiction, Dystopian fiction, Satire, Black Comedy',\n",
       "  'published': '1962 (William Heinemann, UK)',\n",
       "  'media_type': 'Print (hardback  &  paperback)  &  audio book (cassette, CD)',\n",
       "  'pages': '192 pages (hardback edition)  &   < br/ >  176 pages (paperback edition)',\n",
       "  'isbn': '0-434-09800-0',\n",
       "  'oclc': '4205836'},\n",
       " ['Anthony Burgess',\n",
       "  'Nadsat',\n",
       "  'Science fiction',\n",
       "  'Dystopian fiction',\n",
       "  'Satire',\n",
       "  'Black Comedy',\n",
       "  'Heinemann (book publisher)',\n",
       "  'hardback',\n",
       "  'paperback',\n",
       "  'Compact audio cassette',\n",
       "  'Compact Disc',\n",
       "  'Dystopian fiction',\n",
       "  'Satire',\n",
       "  'black comedy',\n",
       "  'Anthony Burgess',\n",
       "  'Alex (A Clockwork Orange)',\n",
       "  'The New York Times',\n",
       "  'Russian language',\n",
       "  'argot',\n",
       "  'Nadsat',\n",
       "  \"wikt:jeu d'esprit\",\n",
       "  'Time (magazine)',\n",
       "  'Modern Library',\n",
       "  'Modern Library 100 Best Novels',\n",
       "  'McMaster University',\n",
       "  'William Ready Division of Archives and Research Collections',\n",
       "  'Hamilton, Ontario',\n",
       "  'Alex (A Clockwork Orange)',\n",
       "  'slang',\n",
       "  'Nadsat',\n",
       "  'Antisocial personality disorder',\n",
       "  'classical music',\n",
       "  'Ludwig van Beethoven',\n",
       "  'novella',\n",
       "  'Korova Milk Bar',\n",
       "  'assault',\n",
       "  'Joyride (crime)',\n",
       "  'rape',\n",
       "  'metafiction',\n",
       "  'orgasm',\n",
       "  'Bible',\n",
       "  'behaviour modification',\n",
       "  'aversion therapy',\n",
       "  'unintended consequence',\n",
       "  \"Beethoven's Fifth Symphony\",\n",
       "  'VIP',\n",
       "  'gang rape',\n",
       "  'mental institution',\n",
       "  'Maturity (psychological)',\n",
       "  'W. W. Norton  &  Company',\n",
       "  'Metanoia (psychology)',\n",
       "  'Stanley Kubrick',\n",
       "  'Alex (A Clockwork Orange)',\n",
       "  'protagonist',\n",
       "  'Nadsat',\n",
       "  'wikt:gormless',\n",
       "  'police officer',\n",
       "  'social worker',\n",
       "  'Charlie Chaplin',\n",
       "  'recidivism',\n",
       "  'Masterpiece',\n",
       "  'cat',\n",
       "  'Hove',\n",
       "  'seaside town',\n",
       "  'British Broadcasting Corporation',\n",
       "  'Penguin Modern Classics',\n",
       "  'juvenile delinquency',\n",
       "  'World War II',\n",
       "  'behaviourism',\n",
       "  'B. F. Skinner',\n",
       "  'Will Self',\n",
       "  'Cockney',\n",
       "  'The Listener (magazine)',\n",
       "  'William K. Everson',\n",
       "  'Camera Three',\n",
       "  'orange (fruit)',\n",
       "  'oxymoron',\n",
       "  'Kingsley Amis',\n",
       "  'Eric Partridge',\n",
       "  'Ivan Pavlov',\n",
       "  'free will',\n",
       "  'Operant conditioning',\n",
       "  'nausea',\n",
       "  'emesis',\n",
       "  'Nadsat',\n",
       "  'Slavic languages',\n",
       "  'rhyming slang',\n",
       "  'Polari',\n",
       "  'Romani people',\n",
       "  'Subliminal message',\n",
       "  'rhyming slang',\n",
       "  'violence',\n",
       "  'Neologism',\n",
       "  'Aestheticization of violence',\n",
       "  'Aurora, Colorado',\n",
       "  'Westport, Massachusetts',\n",
       "  'Anniston, Alabama',\n",
       "  'American Library Association',\n",
       "  'The Sunday Telegraph',\n",
       "  'The Sunday Times',\n",
       "  'The Times',\n",
       "  'File:Burgess1.jpg',\n",
       "  \"Lady Chatterley's Lover\",\n",
       "  'Prometheus Award',\n",
       "  'Time (magazine)',\n",
       "  \"Time's List of the 100 Best Novels\",\n",
       "  'A Clockwork Orange (film)',\n",
       "  'Stanley Kubrick',\n",
       "  'Malcolm McDowell',\n",
       "  'The New York Times',\n",
       "  'Andy Warhol',\n",
       "  'Vinyl (1965 film)',\n",
       "  'Bad Godesberg',\n",
       "  'punk rock',\n",
       "  'Die Toten Hosen',\n",
       "  'Ludwig van Beethoven',\n",
       "  'Symphony No. 9 (Beethoven)',\n",
       "  'Ein kleines bisschen Horrorschau',\n",
       "  'Hier kommt Alex',\n",
       "  'File:Alex and his droogies.jpg',\n",
       "  'Vanessa Claire Stewart',\n",
       "  'Brad Mays',\n",
       "  'File:A Clockwork Orange - the treatment.jpg',\n",
       "  'Vanessa Claire Stewart',\n",
       "  'Brad Mays',\n",
       "  'Royal Shakespeare Company',\n",
       "  'John Peter (critic)',\n",
       "  'The Sunday Times',\n",
       "  'Rocky Horror Show',\n",
       "  'The Sunday Telegraph',\n",
       "  'The Evening Standard',\n",
       "  'Bono',\n",
       "  'The Edge',\n",
       "  'U2 (band)',\n",
       "  'hip hop',\n",
       "  'liturgy',\n",
       "  'gothic music',\n",
       "  'The Irish Independent',\n",
       "  'Big Mac',\n",
       "  'Terry Kinney',\n",
       "  'K. Todd Freeman',\n",
       "  'Manhattan Theatre Source',\n",
       "  'Edinburgh Fringe',\n",
       "  'Edinburgh',\n",
       "  'Brad Mays',\n",
       "  'ARK Theatre Company',\n",
       "  'multi-media',\n",
       "  'LA Weekly',\n",
       "  'LA Weekly Theater Award',\n",
       "  'Vanessa Claire Smith',\n",
       "  'Alex (A Clockwork Orange)',\n",
       "  'Antisocial personality disorder',\n",
       "  'The New Zealand Herald',\n",
       "  'Aestheticization of violence',\n",
       "  'List of cultural references to A Clockwork Orange',\n",
       "  'List of stories set in a future now past',\n",
       "  'Nadsat',\n",
       "  'Project MKUltra',\n",
       "  'Advent (publisher)',\n",
       "  'SparkNotes',\n",
       "  'Theodore Dalrymple',\n",
       "  'City Journal (New York)',\n",
       "  'Category:A Clockwork Orange',\n",
       "  'Category:1962 British novels',\n",
       "  'Category:1962 science fiction novels',\n",
       "  'Category:Mind control in fiction',\n",
       "  'Category:Books written in fictional dialects',\n",
       "  'Category:British novellas',\n",
       "  'Category:British novels adapted into films',\n",
       "  'Category:British philosophical novels',\n",
       "  'Category:British science fiction novels',\n",
       "  'Category:Dystopian novels',\n",
       "  'Category:Fiction with unreliable narrators',\n",
       "  'Category:Novels about music',\n",
       "  'Category:Novels by Anthony Burgess',\n",
       "  'Category:Novels set in England',\n",
       "  'Category:Obscenity controversies in literature',\n",
       "  'Category:Prometheus Award-winning works',\n",
       "  'Category:Rape in fiction',\n",
       "  'Category:Heinemann (publisher) books',\n",
       "  'Category:English-language novels',\n",
       "  'Category:Novels set in London',\n",
       "  'Category:Metafictional novels',\n",
       "  'Category:Novels about sociopathy'],\n",
       " ['http://www.anthonyburgess.org/?mediablog=urgent-copy-exhibition-a-clockwork-orange-1962',\n",
       "  'https://www.nytimes.com/books/97/11/30/home/burgess-orange.html',\n",
       "  'https://en.wiktionary.org/wiki/Appendix:A_Clockwork_Orange',\n",
       "  'http://litreactor.com/columns/book-vs-film-a-clockwork-orange',\n",
       "  'http://www.time.com/time/2005/100books/the_complete_list.html',\n",
       "  'http://www.modernlibrary.com/top-100/100-best-novels/',\n",
       "  'http://news.nationalpost.com/2012/11/11/a-clockwork-orange-original-manuscript/',\n",
       "  'http://thegemsbok.com/art-reviews-and-articles/tuesday-tome-clockwork-orange-anthony-burgess/',\n",
       "  'http://www.visual-memory.co.uk/amk/doc/interview.aco.html',\n",
       "  'http://thefloatinglibrary.com/2009/04/20/a-clockwork-orange-resucked/',\n",
       "  'http://www.bbc.co.uk/radio/player/b01k9v1y',\n",
       "  'https://books.google.com/books?id=qUI8pbpCNJUC',\n",
       "  'https://www.youtube.com/watch?v=ejM3odcn3Tk#t=7m23s',\n",
       "  'http://www.malcolmtribute.freeiz.com/aco/review.html',\n",
       "  'https://books.google.ie/books?id=4dB-zMYQJR0C',\n",
       "  'http://afp.google.com/article/ALeqM5gKh4MPBUr7_ZFvg7tyPFe1IXCAXw',\n",
       "  'https://web.archive.org/web/20080116054923/http://afp.google.com/article/ALeqM5gKh4MPBUr7_ZFvg7tyPFe1IXCAXw',\n",
       "  'http://nymag.com/nymetro/movies/features/15436/',\n",
       "  'https://web.archive.org/web/20080109171639/http://nymag.com/nymetro/movies/features/15436/',\n",
       "  'http://www.animenewsnetwork.com/press-release/2007-09-06/adv-announces-new-gantz-collection-final-guyver-and-more-nov-6-releases',\n",
       "  'https://web.archive.org/web/20080205150753/http://www.animenewsnetwork.com/press-release/2007-09-06/adv-announces-new-gantz-collection-final-guyver-and-more-nov-6-releases',\n",
       "  'http://www.cbsnews.com/stories/2007/10/30/eveningnews/eyeontech/main3433101.shtml',\n",
       "  'https://web.archive.org/web/20080102153252/http://www.cbsnews.com/stories/2007/10/30/eveningnews/eyeontech/main3433101.shtml',\n",
       "  'http://www.ala.org/advocacy/bbooks/frequentlychallengedbooks/classics',\n",
       "  'http://www.lfs.org/hof_nominees.htm',\n",
       "  'http://www.time.com/time/2005/100books/the_complete_list.html',\n",
       "  'https://web.archive.org/web/20070819052804/http://www.time.com/time/2005/100books/the_complete_list.html',\n",
       "  'https://movies.nytimes.com/movie/review?res=9a02e1d61038ef34bc4851dfb467838a669ede',\n",
       "  'http://www.anthonyburgess.org/about-anthony-burgess/a-clockwork-orange-on-stage',\n",
       "  'http://mirateca.com/projects/unitheatre/default.aspx',\n",
       "  'http://bradmays.com/',\n",
       "  'http://www.arktheatre.org/',\n",
       "  'http://www.bradmays.com/clockwork.html',\n",
       "  'http://www.huffingtonpost.com/2011/07/20/clockwork-orange-musical_n_904375.html',\n",
       "  'http://www.laweekly.com/2004-02-12/stage/the-25th-annual-la-weekly-theater-award-nominees/',\n",
       "  'http://www.laweekly.com/2004-04-29/stage/jack-black-goes-to-hollywood-high/',\n",
       "  'http://www.bradmays.com/images/37.jpg',\n",
       "  'http://bradmays.com/gallery/clockwork_orange.html',\n",
       "  'http://www.nzherald.co.nz/section/6/story.cfm?c_id=6',\n",
       "  'http://books.wwnorton.com/books/detail.aspx?ID=24900',\n",
       "  'http://pers-www.wlv.ac.uk/~fa1871/burgess.html',\n",
       "  'https://web.archive.org/web/20051215190843/http://pages.eidosnet.co.uk/johnnymoped/aclockworktestament/aclockworktestament_anthonyburgessonaclockworkorange_page2.html',\n",
       "  'https://web.archive.org/web/20040225221221/http://kubricks0.tripod.com/burgesam.htm',\n",
       "  'https://web.archive.org/web/20060207052552/http://pages.eidosnet.co.uk/johnnymoped/aclockworktestament/aclockworktestament_beingtheadventures_page1.html',\n",
       "  'http://www.sparknotes.com/lit/clockworkorange/',\n",
       "  'http://literapedia.wikispaces.com/A+Clockwork+Orange',\n",
       "  'http://literapedia.wikispaces.com/',\n",
       "  'http://chabrieres.pagesperso-orange.fr/texts/clockwork_orange.html',\n",
       "  'http://www.city-journal.org/html/16_1_oh_to_be.html',\n",
       "  'http://www.conceptualfiction.com/a_clockwork_orange.html',\n",
       "  'http://www.conceptualfiction.com/',\n",
       "  'http://www.brentonpriestley.com/writing/clockwork_orange.htm'])"
      ]
     },
     "execution_count": 14,
     "metadata": {},
     "output_type": "execute_result"
    }
   ],
   "source": [
    "books[3]"
   ]
  },
  {
   "cell_type": "code",
   "execution_count": null,
   "metadata": {},
   "outputs": [],
   "source": []
  },
  {
   "cell_type": "code",
   "execution_count": null,
   "metadata": {},
   "outputs": [],
   "source": []
  },
  {
   "cell_type": "code",
   "execution_count": null,
   "metadata": {},
   "outputs": [],
   "source": []
  },
  {
   "cell_type": "code",
   "execution_count": null,
   "metadata": {},
   "outputs": [],
   "source": []
  },
  {
   "cell_type": "code",
   "execution_count": null,
   "metadata": {},
   "outputs": [],
   "source": []
  },
  {
   "cell_type": "code",
   "execution_count": null,
   "metadata": {},
   "outputs": [],
   "source": []
  },
  {
   "cell_type": "code",
   "execution_count": null,
   "metadata": {},
   "outputs": [],
   "source": []
  },
  {
   "cell_type": "code",
   "execution_count": null,
   "metadata": {},
   "outputs": [],
   "source": []
  },
  {
   "cell_type": "code",
   "execution_count": null,
   "metadata": {},
   "outputs": [],
   "source": []
  },
  {
   "cell_type": "code",
   "execution_count": null,
   "metadata": {},
   "outputs": [],
   "source": []
  },
  {
   "cell_type": "code",
   "execution_count": null,
   "metadata": {},
   "outputs": [],
   "source": []
  },
  {
   "cell_type": "code",
   "execution_count": null,
   "metadata": {},
   "outputs": [],
   "source": []
  },
  {
   "cell_type": "code",
   "execution_count": null,
   "metadata": {},
   "outputs": [],
   "source": []
  },
  {
   "cell_type": "code",
   "execution_count": null,
   "metadata": {},
   "outputs": [],
   "source": []
  },
  {
   "cell_type": "code",
   "execution_count": null,
   "metadata": {},
   "outputs": [],
   "source": []
  },
  {
   "cell_type": "code",
   "execution_count": null,
   "metadata": {},
   "outputs": [],
   "source": []
  },
  {
   "cell_type": "code",
   "execution_count": null,
   "metadata": {},
   "outputs": [],
   "source": []
  }
 ],
 "metadata": {
  "kernelspec": {
   "display_name": "Python 3",
   "language": "python",
   "name": "python3"
  },
  "language_info": {
   "codemirror_mode": {
    "name": "ipython",
    "version": 3
   },
   "file_extension": ".py",
   "mimetype": "text/x-python",
   "name": "python",
   "nbconvert_exporter": "python",
   "pygments_lexer": "ipython3",
   "version": "3.7.1"
  }
 },
 "nbformat": 4,
 "nbformat_minor": 2
}
