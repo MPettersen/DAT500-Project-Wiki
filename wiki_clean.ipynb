{
 "cells": [
  {
   "cell_type": "code",
   "execution_count": 43,
   "metadata": {},
   "outputs": [],
   "source": [
    "import numpy as np\n",
    "import pandas as pd\n",
    "import bz2\n",
    "import xml.sax\n",
    "import mwparserfromhell\n",
    "import os\n",
    "import json\n",
    "from time import time\n",
    "from itertools import chain\n",
    "from multiprocessing import Pool\n",
    "from multiprocessing.dummy import Pool as Threadpool\n",
    "from nltk.tokenize import word_tokenize\n",
    "from nltk.corpus import stopwords"
   ]
  },
  {
   "cell_type": "code",
   "execution_count": 108,
   "metadata": {},
   "outputs": [],
   "source": [
    "punctuations = set(['.', ',', ';', ':', '?', '!', '#', '\\\\', '/', '\"', '\\'', '\\'\\'', '´´', '´', '``', '`', '(', ')'])\n",
    "stop_words = set(stopwords.words('english'))\n",
    "filters = punctuations.union(stop_words)"
   ]
  },
  {
   "cell_type": "markdown",
   "metadata": {},
   "source": [
    "# Content handler for the XML parser"
   ]
  },
  {
   "cell_type": "code",
   "execution_count": 75,
   "metadata": {},
   "outputs": [],
   "source": [
    "class WikiXMLHandler(xml.sax.handler.ContentHandler):\n",
    "    \"\"\"Content handler for Wiki XML data using SAX\"\"\"\n",
    "    def __init__(self):\n",
    "        xml.sax.handler.ContentHandler.__init__(self)\n",
    "        self._buffer = None\n",
    "        self._values = {}\n",
    "        self._current_tag = None\n",
    "        self._previous_tag = None\n",
    "        self._pages = []\n",
    "        self._skip_page = False\n",
    "        \n",
    "        \n",
    "    def characters(self, content):\n",
    "        \"\"\"Characters between opening and closing tags\"\"\"\n",
    "        if self._current_tag:\n",
    "            self._buffer.append(content)\n",
    "            \n",
    "            \n",
    "    def startElement(self, name, attrs):\n",
    "        \"\"\"Opening tag of element\"\"\"\n",
    "        if name in ('id', 'title', 'text'):\n",
    "            self._previous_tag = self._current_tag\n",
    "            self._current_tag = name\n",
    "            self._buffer = []\n",
    "            \n",
    "        \n",
    "    def endElement(self, name):\n",
    "        \"\"\"Closing tag of element\"\"\"\n",
    "        if name == self._current_tag:\n",
    "            if name == 'text':\n",
    "                if self._redirect():\n",
    "                    self._skip_page = True\n",
    "                    pass\n",
    "                else:\n",
    "                    self._skip_page = False\n",
    "                self._process_page()\n",
    "            elif name == 'id' and self._previous_tag == 'id':\n",
    "                pass\n",
    "            else:\n",
    "                self._values[name] = ' '.join(self._buffer)\n",
    "        if name == 'page':\n",
    "            if not self._skip_page:\n",
    "                self._pages.append((self._values['id'],\n",
    "                                    self._values['title'],\n",
    "                                    self._values['text'],\n",
    "                                    self._values['wikilinks'],\n",
    "                                    self._values['extlinks']))\n",
    "                self._page_count = len(self._pages)\n",
    "    \n",
    "    \n",
    "    def _redirect(self):\n",
    "        wiki = mwparserfromhell.parse(self._buffer)\n",
    "        text = wiki.strip_code().split()\n",
    "        if len(text) == 0:\n",
    "            return False\n",
    "        return text[0] == 'REDIRECT'\n",
    "    \n",
    "    \n",
    "    def _process_page(self):\n",
    "        content = mwparserfromhell.parse(self._buffer)\n",
    "        content = content.strip_code().strip()\n",
    "        content = mwparserfromhell.parse(content)\n",
    "        text = content.strip_code().strip()\n",
    "        words = word_tokenize(text)\n",
    "        filtered_words = filter(lambda word: word not in filters, words)\n",
    "        text = [word for word in filtered_words]\n",
    "        self._values['text'] = text\n",
    "        self._values['wikilinks'] = [x.title.strip_code() for x in content.filter_wikilinks()]\n",
    "        self._values['extlinks'] = [x.url.strip_code().strip() for x in content.filter_external_links()]"
   ]
  },
  {
   "cell_type": "markdown",
   "metadata": {},
   "source": [
    "# Preprocessing"
   ]
  },
  {
   "cell_type": "code",
   "execution_count": 3,
   "metadata": {},
   "outputs": [
    {
     "data": {
      "text/plain": [
       "(56,\n",
       " 'C:/data/enwiki-20190220-pages-articles-multistream9.xml-p1791081p2336422.bz2')"
      ]
     },
     "execution_count": 3,
     "metadata": {},
     "output_type": "execute_result"
    }
   ],
   "source": [
    "data_folder = 'C:/data/'\n",
    "partitions = [data_folder + file for file in os.listdir(data_folder) if 'xml-p']\n",
    "len(partitions), partitions[-1]"
   ]
  },
  {
   "cell_type": "code",
   "execution_count": 30,
   "metadata": {},
   "outputs": [],
   "source": [
    "def preprocess_pages(data_path, save=True):\n",
    "    \"\"\"Finds and cleans all pages from a compressed wikipedia XML file\"\"\"\n",
    "    start = time()\n",
    "    # Object for handling xml\n",
    "    handler = WikiXMLHandler()\n",
    "\n",
    "    # Parsing object\n",
    "    parser = xml.sax.make_parser()\n",
    "    parser.setContentHandler(handler)\n",
    "\n",
    "    # Iteratively process file\n",
    "    i = 0\n",
    "    for line in bz2.BZ2File(data_path, 'r'):\n",
    "        try:\n",
    "            parser.feed(line)\n",
    "        except StopIteration:\n",
    "            break\n",
    "        i += 1\n",
    "        if i > 1e+4: break\n",
    "\n",
    "    if save:\n",
    "        temp = []\n",
    "        for page in handler._pages:\n",
    "            temp.append({\n",
    "                'id': page[0],\n",
    "                'title': page[1],\n",
    "                'text': page[2],\n",
    "                'wikilinks': [page[3]],\n",
    "                'extlinks': [page[4]]\n",
    "            })\n",
    "        csv = pd.DataFrame(temp,\n",
    "                           columns=['id', 'title', 'text', 'wikilinks', 'extlinks'])\n",
    "        csv.to_csv(data_path+'.csv', sep='\\t', index=False)\n",
    "    \n",
    "    end = time()\n",
    "    print(f'\\n{data_path} preprocessed in {round(end-start)} seconds')\n",
    "    print(f'{handler._page_count} pages found in {data_path}')"
   ]
  },
  {
   "cell_type": "code",
   "execution_count": null,
   "metadata": {},
   "outputs": [],
   "source": [
    "start = time()\n",
    "# Create a pool of workers to execute processes\n",
    "pool = Pool(processes = 4)\n",
    "\n",
    "# Map (service, task), applies function to each partition \n",
    "results = pool.map(preprocess_pages, partitions)\n",
    "\n",
    "pool.close()\n",
    "pool.join()\n",
    "end = time()\n",
    "print(f'\\nWhole dump preprocessed in {round(end-start)} seconds')"
   ]
  },
  {
   "cell_type": "markdown",
   "metadata": {},
   "source": [
    "# Testing"
   ]
  },
  {
   "cell_type": "code",
   "execution_count": 49,
   "metadata": {},
   "outputs": [],
   "source": [
    "wiki_dump = 'data/enwiki-20190220-pages-articles-multistream1.xml-p10p30302.bz2'\n",
    "wiki_dump = 'C:/data/enwiki-20190220-pages-articles-multistream1.xml-p10p30302.bz2'"
   ]
  },
  {
   "cell_type": "code",
   "execution_count": 109,
   "metadata": {},
   "outputs": [
    {
     "name": "stdout",
     "output_type": "stream",
     "text": [
      "\n",
      "Searched through 10 pages\n",
      "\n",
      "In 4 seconds\n"
     ]
    }
   ],
   "source": [
    "# Object for handling xml\n",
    "handler = WikiXMLHandler()\n",
    "# Parsing object\n",
    "parser = xml.sax.make_parser()\n",
    "parser.setContentHandler(handler)\n",
    "start = time()\n",
    "# Parse the entire file\n",
    "i = 0\n",
    "for line in bz2.BZ2File(wiki_dump):\n",
    "    try:\n",
    "        parser.feed(line)\n",
    "    except StopIteration:\n",
    "        break\n",
    "    i += 1\n",
    "    if i > 1e+4: break\n",
    "end = time()\n",
    "\n",
    "print(f'\\nSearched through {handler._page_count} pages')\n",
    "print(f'\\nIn {round(end-start)} seconds')"
   ]
  },
  {
   "cell_type": "code",
   "execution_count": 110,
   "metadata": {},
   "outputs": [
    {
     "name": "stdout",
     "output_type": "stream",
     "text": [
      "<class 'tuple'> 5\n"
     ]
    },
    {
     "data": {
      "text/plain": [
       "(str, str, list, list, list)"
      ]
     },
     "execution_count": 110,
     "metadata": {},
     "output_type": "execute_result"
    }
   ],
   "source": [
    "a = handler._pages[8]\n",
    "print(type(a), len(a))\n",
    "type(a[0]), type(a[1]), type(a[2]), type(a[3]), type(a[4])"
   ]
  },
  {
   "cell_type": "code",
   "execution_count": 79,
   "metadata": {},
   "outputs": [],
   "source": [
    "# a[2]"
   ]
  },
  {
   "cell_type": "code",
   "execution_count": 111,
   "metadata": {},
   "outputs": [
    {
     "data": {
      "text/html": [
       "<div>\n",
       "<style scoped>\n",
       "    .dataframe tbody tr th:only-of-type {\n",
       "        vertical-align: middle;\n",
       "    }\n",
       "\n",
       "    .dataframe tbody tr th {\n",
       "        vertical-align: top;\n",
       "    }\n",
       "\n",
       "    .dataframe thead th {\n",
       "        text-align: right;\n",
       "    }\n",
       "</style>\n",
       "<table border=\"1\" class=\"dataframe\">\n",
       "  <thead>\n",
       "    <tr style=\"text-align: right;\">\n",
       "      <th></th>\n",
       "      <th>id</th>\n",
       "      <th>title</th>\n",
       "      <th>text</th>\n",
       "      <th>wikilinks</th>\n",
       "      <th>extlinks</th>\n",
       "    </tr>\n",
       "  </thead>\n",
       "  <tbody>\n",
       "    <tr>\n",
       "      <th>0</th>\n",
       "      <td>12</td>\n",
       "      <td>Anarchism</td>\n",
       "      <td>[[Anarchism, anti-authoritarian, political, ph...</td>\n",
       "      <td>[[File:WilliamGodwin.jpg, File:Bakunin.png, Ca...</td>\n",
       "      <td>[[http://www.britannica.com/eb/article-9117285...</td>\n",
       "    </tr>\n",
       "    <tr>\n",
       "      <th>1</th>\n",
       "      <td>25</td>\n",
       "      <td>Autism</td>\n",
       "      <td>[[Autism, developmental, disorder, characteriz...</td>\n",
       "      <td>[[John Wiley &amp; Sons, File:Single Chromosome Mu...</td>\n",
       "      <td>[[https://www.nimh.nih.gov/health/topics/autis...</td>\n",
       "    </tr>\n",
       "    <tr>\n",
       "      <th>2</th>\n",
       "      <td>39</td>\n",
       "      <td>Albedo</td>\n",
       "      <td>[[thumb|upright=1.3|The, percentage, diffusely...</td>\n",
       "      <td>[[File:water reflectivity.jpg]]</td>\n",
       "      <td>[[http://web.cse.ohio-state.edu/~parent.1/clas...</td>\n",
       "    </tr>\n",
       "    <tr>\n",
       "      <th>3</th>\n",
       "      <td>290</td>\n",
       "      <td>A</td>\n",
       "      <td>[[A, named, plural, As, A, 's, 's, aes, first,...</td>\n",
       "      <td>[[File:Cretan-1.jpg, Aleph, File:Cretan-1.jpg,...</td>\n",
       "      <td>[[https://books.google.com/books?id=n2QWAAAAYA...</td>\n",
       "    </tr>\n",
       "    <tr>\n",
       "      <th>4</th>\n",
       "      <td>303</td>\n",
       "      <td>Alabama</td>\n",
       "      <td>[[Alabama, state, southeastern, region, United...</td>\n",
       "      <td>[[Natural Bridge, Alabama, AT&amp;T Inc., AT&amp;T Inc...</td>\n",
       "      <td>[[http://www.oed.com/view/Entry/248152?redirec...</td>\n",
       "    </tr>\n",
       "    <tr>\n",
       "      <th>5</th>\n",
       "      <td>305</td>\n",
       "      <td>Achilles</td>\n",
       "      <td>[[thumb|300px|Ancient, Greek, polychromatic, p...</td>\n",
       "      <td>[[File:The Education of Achilles 1862 Delacroi...</td>\n",
       "      <td>[[http://epigraphy.packhum.org/inscriptions/se...</td>\n",
       "    </tr>\n",
       "    <tr>\n",
       "      <th>6</th>\n",
       "      <td>307</td>\n",
       "      <td>Abraham Lincoln</td>\n",
       "      <td>[[Abraham, Lincoln, February, 12, 1809, –, Apr...</td>\n",
       "      <td>[[Sarah Bush Lincoln, William Wallace Lincoln,...</td>\n",
       "      <td>[[https://quod.lib.umich.edu/j/jala/2629860.00...</td>\n",
       "    </tr>\n",
       "    <tr>\n",
       "      <th>7</th>\n",
       "      <td>308</td>\n",
       "      <td>Aristotle</td>\n",
       "      <td>[[Aristotle, Aristotélēs, 384–322, BC, ancient...</td>\n",
       "      <td>[[State of matter, File:Scyliorhinus retifer e...</td>\n",
       "      <td>[[https://books.google.com/?id=ZB-rVxPvtPEC&amp;pg...</td>\n",
       "    </tr>\n",
       "    <tr>\n",
       "      <th>8</th>\n",
       "      <td>309</td>\n",
       "      <td>An American in Paris</td>\n",
       "      <td>[[Themes, An, American, Paris, An, American, P...</td>\n",
       "      <td>[[University of Michigan School of Music, Thea...</td>\n",
       "      <td>[[http://www.kennedy-center.org/calendar/?fuse...</td>\n",
       "    </tr>\n",
       "    <tr>\n",
       "      <th>9</th>\n",
       "      <td>316</td>\n",
       "      <td>Academy Award for Best Production Design</td>\n",
       "      <td>[[The, Academy, Award, Best, Production, Desig...</td>\n",
       "      <td>[[Pride and Prejudice (2005 film)]]</td>\n",
       "      <td>[[http://awardsdatabase.oscars.org/, https://w...</td>\n",
       "    </tr>\n",
       "  </tbody>\n",
       "</table>\n",
       "</div>"
      ],
      "text/plain": [
       "    id                                     title  \\\n",
       "0   12                                 Anarchism   \n",
       "1   25                                    Autism   \n",
       "2   39                                    Albedo   \n",
       "3  290                                         A   \n",
       "4  303                                   Alabama   \n",
       "5  305                                  Achilles   \n",
       "6  307                           Abraham Lincoln   \n",
       "7  308                                 Aristotle   \n",
       "8  309                      An American in Paris   \n",
       "9  316  Academy Award for Best Production Design   \n",
       "\n",
       "                                                text  \\\n",
       "0  [[Anarchism, anti-authoritarian, political, ph...   \n",
       "1  [[Autism, developmental, disorder, characteriz...   \n",
       "2  [[thumb|upright=1.3|The, percentage, diffusely...   \n",
       "3  [[A, named, plural, As, A, 's, 's, aes, first,...   \n",
       "4  [[Alabama, state, southeastern, region, United...   \n",
       "5  [[thumb|300px|Ancient, Greek, polychromatic, p...   \n",
       "6  [[Abraham, Lincoln, February, 12, 1809, –, Apr...   \n",
       "7  [[Aristotle, Aristotélēs, 384–322, BC, ancient...   \n",
       "8  [[Themes, An, American, Paris, An, American, P...   \n",
       "9  [[The, Academy, Award, Best, Production, Desig...   \n",
       "\n",
       "                                           wikilinks  \\\n",
       "0  [[File:WilliamGodwin.jpg, File:Bakunin.png, Ca...   \n",
       "1  [[John Wiley & Sons, File:Single Chromosome Mu...   \n",
       "2                    [[File:water reflectivity.jpg]]   \n",
       "3  [[File:Cretan-1.jpg, Aleph, File:Cretan-1.jpg,...   \n",
       "4  [[Natural Bridge, Alabama, AT&T Inc., AT&T Inc...   \n",
       "5  [[File:The Education of Achilles 1862 Delacroi...   \n",
       "6  [[Sarah Bush Lincoln, William Wallace Lincoln,...   \n",
       "7  [[State of matter, File:Scyliorhinus retifer e...   \n",
       "8  [[University of Michigan School of Music, Thea...   \n",
       "9                [[Pride and Prejudice (2005 film)]]   \n",
       "\n",
       "                                            extlinks  \n",
       "0  [[http://www.britannica.com/eb/article-9117285...  \n",
       "1  [[https://www.nimh.nih.gov/health/topics/autis...  \n",
       "2  [[http://web.cse.ohio-state.edu/~parent.1/clas...  \n",
       "3  [[https://books.google.com/books?id=n2QWAAAAYA...  \n",
       "4  [[http://www.oed.com/view/Entry/248152?redirec...  \n",
       "5  [[http://epigraphy.packhum.org/inscriptions/se...  \n",
       "6  [[https://quod.lib.umich.edu/j/jala/2629860.00...  \n",
       "7  [[https://books.google.com/?id=ZB-rVxPvtPEC&pg...  \n",
       "8  [[http://www.kennedy-center.org/calendar/?fuse...  \n",
       "9  [[http://awardsdatabase.oscars.org/, https://w...  "
      ]
     },
     "execution_count": 111,
     "metadata": {},
     "output_type": "execute_result"
    }
   ],
   "source": [
    "a = handler._pages\n",
    "b = []\n",
    "for p in a:\n",
    "    b.append({\n",
    "        'id': p[0],\n",
    "        'title': p[1],\n",
    "        'text': [p[2]],\n",
    "        'wikilinks': [p[3]],\n",
    "        'extlinks': [p[4]]\n",
    "    })\n",
    "c = pd.DataFrame(b, \n",
    "                 columns=['id', 'title', 'text', 'wikilinks', 'extlinks'])\n",
    "c"
   ]
  },
  {
   "cell_type": "code",
   "execution_count": 125,
   "metadata": {},
   "outputs": [
    {
     "data": {
      "text/html": [
       "<div>\n",
       "<style scoped>\n",
       "    .dataframe tbody tr th:only-of-type {\n",
       "        vertical-align: middle;\n",
       "    }\n",
       "\n",
       "    .dataframe tbody tr th {\n",
       "        vertical-align: top;\n",
       "    }\n",
       "\n",
       "    .dataframe thead th {\n",
       "        text-align: right;\n",
       "    }\n",
       "</style>\n",
       "<table border=\"1\" class=\"dataframe\">\n",
       "  <thead>\n",
       "    <tr style=\"text-align: right;\">\n",
       "      <th></th>\n",
       "      <th>id</th>\n",
       "      <th>title</th>\n",
       "      <th>text</th>\n",
       "      <th>wikilinks</th>\n",
       "      <th>extlinks</th>\n",
       "    </tr>\n",
       "  </thead>\n",
       "  <tbody>\n",
       "    <tr>\n",
       "      <th>0</th>\n",
       "      <td>12</td>\n",
       "      <td>Anarchism</td>\n",
       "      <td>['Anarchism', 'anti-authoritarian', 'political...</td>\n",
       "      <td>['File:WilliamGodwin.jpg', 'File:Bakunin.png',...</td>\n",
       "      <td>['http://www.britannica.com/eb/article-9117285...</td>\n",
       "    </tr>\n",
       "    <tr>\n",
       "      <th>1</th>\n",
       "      <td>25</td>\n",
       "      <td>Autism</td>\n",
       "      <td>['Autism', 'developmental', 'disorder', 'chara...</td>\n",
       "      <td>['John Wiley &amp; Sons', 'File:Single Chromosome ...</td>\n",
       "      <td>['https://www.nimh.nih.gov/health/topics/autis...</td>\n",
       "    </tr>\n",
       "    <tr>\n",
       "      <th>2</th>\n",
       "      <td>39</td>\n",
       "      <td>Albedo</td>\n",
       "      <td>['thumb|upright=1.3|The', 'percentage', 'diffu...</td>\n",
       "      <td>['File:water reflectivity.jpg']</td>\n",
       "      <td>['http://web.cse.ohio-state.edu/~parent.1/clas...</td>\n",
       "    </tr>\n",
       "    <tr>\n",
       "      <th>3</th>\n",
       "      <td>290</td>\n",
       "      <td>A</td>\n",
       "      <td>['A', 'named', 'plural', 'As', 'A', \"'s\", \"'s\"...</td>\n",
       "      <td>['File:Cretan-1.jpg', 'Aleph', 'File:Cretan-1....</td>\n",
       "      <td>['https://books.google.com/books?id=n2QWAAAAYA...</td>\n",
       "    </tr>\n",
       "    <tr>\n",
       "      <th>4</th>\n",
       "      <td>303</td>\n",
       "      <td>Alabama</td>\n",
       "      <td>['Alabama', 'state', 'southeastern', 'region',...</td>\n",
       "      <td>['Natural Bridge, Alabama', 'AT&amp;T Inc.', 'AT&amp;T...</td>\n",
       "      <td>['http://www.oed.com/view/Entry/248152?redirec...</td>\n",
       "    </tr>\n",
       "    <tr>\n",
       "      <th>5</th>\n",
       "      <td>305</td>\n",
       "      <td>Achilles</td>\n",
       "      <td>['thumb|300px|Ancient', 'Greek', 'polychromati...</td>\n",
       "      <td>['File:The Education of Achilles 1862 Delacroi...</td>\n",
       "      <td>['http://epigraphy.packhum.org/inscriptions/se...</td>\n",
       "    </tr>\n",
       "    <tr>\n",
       "      <th>6</th>\n",
       "      <td>307</td>\n",
       "      <td>Abraham Lincoln</td>\n",
       "      <td>['Abraham', 'Lincoln', 'February', '12', '1809...</td>\n",
       "      <td>['Sarah Bush Lincoln', 'William Wallace Lincol...</td>\n",
       "      <td>['https://quod.lib.umich.edu/j/jala/2629860.00...</td>\n",
       "    </tr>\n",
       "    <tr>\n",
       "      <th>7</th>\n",
       "      <td>308</td>\n",
       "      <td>Aristotle</td>\n",
       "      <td>['Aristotle', 'Aristotélēs', '384–322', 'BC', ...</td>\n",
       "      <td>['State of matter', 'File:Scyliorhinus retifer...</td>\n",
       "      <td>['https://books.google.com/?id=ZB-rVxPvtPEC&amp;pg...</td>\n",
       "    </tr>\n",
       "    <tr>\n",
       "      <th>8</th>\n",
       "      <td>309</td>\n",
       "      <td>An American in Paris</td>\n",
       "      <td>['Themes', 'An', 'American', 'Paris', 'An', 'A...</td>\n",
       "      <td>['University of Michigan School of Music, Thea...</td>\n",
       "      <td>['http://www.kennedy-center.org/calendar/?fuse...</td>\n",
       "    </tr>\n",
       "    <tr>\n",
       "      <th>9</th>\n",
       "      <td>316</td>\n",
       "      <td>Academy Award for Best Production Design</td>\n",
       "      <td>['The', 'Academy', 'Award', 'Best', 'Productio...</td>\n",
       "      <td>['Pride and Prejudice (2005 film)']</td>\n",
       "      <td>['http://awardsdatabase.oscars.org/', 'https:/...</td>\n",
       "    </tr>\n",
       "  </tbody>\n",
       "</table>\n",
       "</div>"
      ],
      "text/plain": [
       "    id                                     title  \\\n",
       "0   12                                 Anarchism   \n",
       "1   25                                    Autism   \n",
       "2   39                                    Albedo   \n",
       "3  290                                         A   \n",
       "4  303                                   Alabama   \n",
       "5  305                                  Achilles   \n",
       "6  307                           Abraham Lincoln   \n",
       "7  308                                 Aristotle   \n",
       "8  309                      An American in Paris   \n",
       "9  316  Academy Award for Best Production Design   \n",
       "\n",
       "                                                text  \\\n",
       "0  ['Anarchism', 'anti-authoritarian', 'political...   \n",
       "1  ['Autism', 'developmental', 'disorder', 'chara...   \n",
       "2  ['thumb|upright=1.3|The', 'percentage', 'diffu...   \n",
       "3  ['A', 'named', 'plural', 'As', 'A', \"'s\", \"'s\"...   \n",
       "4  ['Alabama', 'state', 'southeastern', 'region',...   \n",
       "5  ['thumb|300px|Ancient', 'Greek', 'polychromati...   \n",
       "6  ['Abraham', 'Lincoln', 'February', '12', '1809...   \n",
       "7  ['Aristotle', 'Aristotélēs', '384–322', 'BC', ...   \n",
       "8  ['Themes', 'An', 'American', 'Paris', 'An', 'A...   \n",
       "9  ['The', 'Academy', 'Award', 'Best', 'Productio...   \n",
       "\n",
       "                                           wikilinks  \\\n",
       "0  ['File:WilliamGodwin.jpg', 'File:Bakunin.png',...   \n",
       "1  ['John Wiley & Sons', 'File:Single Chromosome ...   \n",
       "2                    ['File:water reflectivity.jpg']   \n",
       "3  ['File:Cretan-1.jpg', 'Aleph', 'File:Cretan-1....   \n",
       "4  ['Natural Bridge, Alabama', 'AT&T Inc.', 'AT&T...   \n",
       "5  ['File:The Education of Achilles 1862 Delacroi...   \n",
       "6  ['Sarah Bush Lincoln', 'William Wallace Lincol...   \n",
       "7  ['State of matter', 'File:Scyliorhinus retifer...   \n",
       "8  ['University of Michigan School of Music, Thea...   \n",
       "9                ['Pride and Prejudice (2005 film)']   \n",
       "\n",
       "                                            extlinks  \n",
       "0  ['http://www.britannica.com/eb/article-9117285...  \n",
       "1  ['https://www.nimh.nih.gov/health/topics/autis...  \n",
       "2  ['http://web.cse.ohio-state.edu/~parent.1/clas...  \n",
       "3  ['https://books.google.com/books?id=n2QWAAAAYA...  \n",
       "4  ['http://www.oed.com/view/Entry/248152?redirec...  \n",
       "5  ['http://epigraphy.packhum.org/inscriptions/se...  \n",
       "6  ['https://quod.lib.umich.edu/j/jala/2629860.00...  \n",
       "7  ['https://books.google.com/?id=ZB-rVxPvtPEC&pg...  \n",
       "8  ['http://www.kennedy-center.org/calendar/?fuse...  \n",
       "9  ['http://awardsdatabase.oscars.org/', 'https:/...  "
      ]
     },
     "execution_count": 125,
     "metadata": {},
     "output_type": "execute_result"
    }
   ],
   "source": [
    "c.to_csv('test.csv', sep='\\t', index=False)\n",
    "d = pd.read_csv('test.csv', delimiter='\\t', \n",
    "                converters={'text': lambda x: x.strip('[]').split(', '),\n",
    "                            'wikilinks': lambda x: x.strip('[]').split(', '),\n",
    "                            'extlinks': lambda x: x.strip('[]').split(', ')})\n",
    "d"
   ]
  },
  {
   "cell_type": "code",
   "execution_count": 127,
   "metadata": {},
   "outputs": [],
   "source": [
    "q = d.loc[0, 'text'][0]\n",
    "# c.loc[0, 'text'][0]"
   ]
  },
  {
   "cell_type": "code",
   "execution_count": 128,
   "metadata": {},
   "outputs": [
    {
     "data": {
      "text/plain": [
       "'Anarchism'"
      ]
     },
     "execution_count": 128,
     "metadata": {},
     "output_type": "execute_result"
    }
   ],
   "source": [
    "q.strip('\\'')"
   ]
  },
  {
   "cell_type": "code",
   "execution_count": 144,
   "metadata": {},
   "outputs": [
    {
     "data": {
      "text/plain": [
       "list"
      ]
     },
     "execution_count": 144,
     "metadata": {},
     "output_type": "execute_result"
    }
   ],
   "source": [
    "# d.loc[0, 'extlinks'] = [word.strip('\\'') for word in d.loc[0, 'extlinks']]\n",
    "# d.loc[0, 'extlinks']\n",
    "\n",
    "type([word.strip('\\'') for word in d.loc[0, 'extlinks']])\n",
    "type(d.loc[0, 'extlinks'])"
   ]
  },
  {
   "cell_type": "code",
   "execution_count": null,
   "metadata": {},
   "outputs": [],
   "source": [
    "i = 0\n",
    "for line in bz2.BZ2File(wiki_dump):\n",
    "    print(line)\n",
    "    i += 1\n",
    "    if i > 2e+2: break"
   ]
  },
  {
   "cell_type": "code",
   "execution_count": 160,
   "metadata": {},
   "outputs": [
    {
     "data": {
      "text/plain": [
       "3"
      ]
     },
     "execution_count": 160,
     "metadata": {},
     "output_type": "execute_result"
    }
   ],
   "source": [
    "np.random.choice([1, 2, 3])"
   ]
  },
  {
   "cell_type": "code",
   "execution_count": 161,
   "metadata": {},
   "outputs": [
    {
     "data": {
      "text/plain": [
       "2"
      ]
     },
     "execution_count": 161,
     "metadata": {},
     "output_type": "execute_result"
    }
   ],
   "source": [
    "np.random.choice([1, 2, 3])"
   ]
  },
  {
   "cell_type": "code",
   "execution_count": null,
   "metadata": {},
   "outputs": [],
   "source": []
  },
  {
   "cell_type": "code",
   "execution_count": null,
   "metadata": {},
   "outputs": [],
   "source": []
  },
  {
   "cell_type": "code",
   "execution_count": null,
   "metadata": {},
   "outputs": [],
   "source": []
  },
  {
   "cell_type": "code",
   "execution_count": null,
   "metadata": {},
   "outputs": [],
   "source": []
  },
  {
   "cell_type": "code",
   "execution_count": null,
   "metadata": {},
   "outputs": [],
   "source": []
  },
  {
   "cell_type": "code",
   "execution_count": null,
   "metadata": {},
   "outputs": [],
   "source": []
  },
  {
   "cell_type": "code",
   "execution_count": null,
   "metadata": {},
   "outputs": [],
   "source": []
  },
  {
   "cell_type": "code",
   "execution_count": null,
   "metadata": {},
   "outputs": [],
   "source": []
  },
  {
   "cell_type": "code",
   "execution_count": null,
   "metadata": {},
   "outputs": [],
   "source": []
  },
  {
   "cell_type": "code",
   "execution_count": null,
   "metadata": {},
   "outputs": [],
   "source": []
  },
  {
   "cell_type": "code",
   "execution_count": null,
   "metadata": {},
   "outputs": [],
   "source": []
  },
  {
   "cell_type": "code",
   "execution_count": null,
   "metadata": {},
   "outputs": [],
   "source": []
  }
 ],
 "metadata": {
  "kernelspec": {
   "display_name": "Python 3",
   "language": "python",
   "name": "python3"
  },
  "language_info": {
   "codemirror_mode": {
    "name": "ipython",
    "version": 3
   },
   "file_extension": ".py",
   "mimetype": "text/x-python",
   "name": "python",
   "nbconvert_exporter": "python",
   "pygments_lexer": "ipython3",
   "version": "3.7.1"
  }
 },
 "nbformat": 4,
 "nbformat_minor": 2
}
