{
 "cells": [
  {
   "cell_type": "markdown",
   "metadata": {},
   "source": [
    "# Pure Python implementation of a Search Engine"
   ]
  },
  {
   "cell_type": "code",
   "execution_count": 13,
   "metadata": {},
   "outputs": [],
   "source": [
    "import sys\n",
    "import os\n",
    "import glob\n",
    "from time import time\n",
    "import numpy as np"
   ]
  },
  {
   "cell_type": "markdown",
   "metadata": {},
   "source": [
    "### Input files\n",
    "\n",
    "- input_PR\n",
    "  - output from Spark PageRank\n",
    "- input_TFIDF\n",
    "  - output from Spark TF_IDF\n",
    "- input_nowiki\n",
    "  - output from Python preprocessor of nowiki dataset"
   ]
  },
  {
   "cell_type": "code",
   "execution_count": 21,
   "metadata": {},
   "outputs": [],
   "source": [
    "input_PR = 'nowiki_PR/part*'\n",
    "input_TFIDF = 'nowiki_TFIDF/part*'\n",
    "input_nowiki = 'clean-data-no/nowiki.csv'"
   ]
  },
  {
   "cell_type": "markdown",
   "metadata": {},
   "source": [
    "## Helper functions to format input files"
   ]
  },
  {
   "cell_type": "code",
   "execution_count": 5,
   "metadata": {},
   "outputs": [],
   "source": [
    "def getTFIDF(line):\n",
    "    tf_idf = line.split(',')\n",
    "    if len(tf_idf) == 3:\n",
    "        return tf_idf[0][2:-1], (tf_idf[1].strip()[2:-1], float(tf_idf[2][2:-1].strip()[:-2]))\n",
    "    else:\n",
    "        return ','.join(tf_idf[:-2])[2:-1], (tf_idf[-2].strip()[2:-1], float(tf_idf[-1][2:-1].strip()[:-2]))"
   ]
  },
  {
   "cell_type": "code",
   "execution_count": 6,
   "metadata": {},
   "outputs": [],
   "source": [
    "def getPageRank(line):\n",
    "    pair = line.split(',')\n",
    "    if len(pair) > 2:\n",
    "        return ','.join(pair[:-1])[2:], float(pair[-1].strip()[:-1])\n",
    "    else:\n",
    "        return pair[0][2:-1], float(pair[1].strip()[:-1])"
   ]
  },
  {
   "cell_type": "markdown",
   "metadata": {},
   "source": [
    "## Read PageRanks into a dictionary"
   ]
  },
  {
   "cell_type": "code",
   "execution_count": null,
   "metadata": {},
   "outputs": [],
   "source": [
    "PR = dict()\n",
    "for file in glob.glob(input_PR):\n",
    "    with open(file, 'r', encoding='utf8') as f:\n",
    "        for line in f:\n",
    "            pair = getPageRank(line)\n",
    "            PR[pair[0]] = pair[1]"
   ]
  },
  {
   "cell_type": "markdown",
   "metadata": {},
   "source": [
    "## Read TF-IDF into a dictionary\n",
    "\n",
    "Note: TF-IDF input is a large file and requires 10 GB of RAM"
   ]
  },
  {
   "cell_type": "code",
   "execution_count": null,
   "metadata": {},
   "outputs": [],
   "source": [
    "TFIDF = dict()\n",
    "for file in glob.glob(input_TFIDF):\n",
    "    with open(file, 'r', encoding='utf8') as f:\n",
    "        for line in f:\n",
    "            t = getTFIDF(line)\n",
    "            if t[0] not in TFIDF:\n",
    "                TFIDF[t[0]] = list()\n",
    "            TFIDF[t[0]].append(t[1])"
   ]
  },
  {
   "cell_type": "markdown",
   "metadata": {},
   "source": [
    "## Create a dictionary of pages\n",
    "\n",
    "- Key: ID\n",
    "- Value: Title"
   ]
  },
  {
   "cell_type": "code",
   "execution_count": null,
   "metadata": {},
   "outputs": [],
   "source": [
    "pages = dict()\n",
    "with open(input_nowiki, 'r', encoding='utf8') as file:\n",
    "    for line in file:\n",
    "        entry = line.strip().split('\\t')\n",
    "        pages[entry[0]] = entry[1]"
   ]
  },
  {
   "cell_type": "markdown",
   "metadata": {},
   "source": [
    "## Search function"
   ]
  },
  {
   "cell_type": "code",
   "execution_count": 49,
   "metadata": {},
   "outputs": [],
   "source": [
    "def search(query):\n",
    "    start = time()\n",
    "    search_res = []\n",
    "    # Title search\n",
    "    if query in PR:\n",
    "        search_res.append((query, np.inf))\n",
    "    # Search through TF-IDF word by word\n",
    "    # And get the PageRank per result from TF-IDF search\n",
    "    for word in query.split():\n",
    "        docs = dict()\n",
    "        if word in TFIDF:\n",
    "            for doc, score in TFIDF[word]:\n",
    "                if doc not in docs:\n",
    "                    docs[doc] = dict()\n",
    "                    docs[doc]['TF-IDF'] = score\n",
    "                    page = pages[doc]\n",
    "                    if page in PR:\n",
    "                        docs[doc]['title'] = page\n",
    "                        docs[doc]['rank'] = PR[page]\n",
    "                    else:\n",
    "                        docs[doc]['title'] = None\n",
    "                        docs[doc]['rank'] = 0\n",
    "                else:\n",
    "                    docs[doc]['TF-IDF'] += score\n",
    "        for _, doc in docs.items():\n",
    "            search_res.append((doc['title'], doc['TF-IDF']*doc['rank']))\n",
    "    search_res.sort(key=lambda tup: tup[1], reverse=True)\n",
    "    end = time()\n",
    "    print('Found', len(docs), 'matches in', end-start, 'seconds')\n",
    "    return search_res[:10]"
   ]
  },
  {
   "cell_type": "code",
   "execution_count": 50,
   "metadata": {},
   "outputs": [
    {
     "name": "stdout",
     "output_type": "stream",
     "text": [
      "Found 1294 matches in 0.003947019577026367 seconds\n"
     ]
    },
    {
     "data": {
      "text/plain": [
       "[('Chihuahua', 5.881837827315857e-07),\n",
       " ('Store hund', 2.719250828363443e-07),\n",
       " ('Den lille hund', 2.6500670427313347e-07),\n",
       " ('Kategori:Store hund', 2.3006890281200476e-07),\n",
       " ('Kategori:Den lille hund', 1.995185378535444e-07),\n",
       " ('Hofteleddsdysplasi', 1.7453830317081887e-07),\n",
       " ('Vesle hund', 1.5356277661287365e-07),\n",
       " ('Akita', 1.4500650767209032e-07),\n",
       " ('Den lille hunden', 1.382064989515863e-07),\n",
       " ('Kina', 1.3799534316859692e-07)]"
      ]
     },
     "execution_count": 50,
     "metadata": {},
     "output_type": "execute_result"
    }
   ],
   "source": [
    "search('hund')"
   ]
  },
  {
   "cell_type": "code",
   "execution_count": 51,
   "metadata": {},
   "outputs": [
    {
     "name": "stdout",
     "output_type": "stream",
     "text": [
      "Found 53 matches in 0.0 seconds\n"
     ]
    },
    {
     "data": {
      "text/plain": [
       "[('Akita', inf),\n",
       " ('Japan', 9.911614979482184e-07),\n",
       " ('Akita (Akita)', 3.6962904468494174e-07),\n",
       " ('Akita', 3.5409990935597255e-07),\n",
       " ('Akita (prefektur)', 3.4223551796330046e-07),\n",
       " ('Akita (hund)', 2.3098011011964316e-07),\n",
       " ('Kategori:Personer fra prefekturet Akita', 2.217113344190102e-07),\n",
       " ('Omono', 2.0072452026452653e-07),\n",
       " ('Blaublitz Akita', 1.7180549303047218e-07),\n",
       " ('Kazuno', 8.330484878096286e-08)]"
      ]
     },
     "execution_count": 51,
     "metadata": {},
     "output_type": "execute_result"
    }
   ],
   "source": [
    "search('Akita')"
   ]
  },
  {
   "cell_type": "code",
   "execution_count": 52,
   "metadata": {},
   "outputs": [
    {
     "name": "stdout",
     "output_type": "stream",
     "text": [
      "Found 53 matches in 0.0 seconds\n"
     ]
    },
    {
     "data": {
      "text/plain": [
       "[('Blaublitz Akita', inf),\n",
       " ('Japan', 9.911614979482184e-07),\n",
       " ('Akita (Akita)', 3.6962904468494174e-07),\n",
       " ('Akita', 3.5409990935597255e-07),\n",
       " ('Akita (prefektur)', 3.4223551796330046e-07),\n",
       " ('Akita (hund)', 2.3098011011964316e-07),\n",
       " ('Kategori:Personer fra prefekturet Akita', 2.217113344190102e-07),\n",
       " ('Omono', 2.0072452026452653e-07),\n",
       " ('Blaublitz Akita', 1.7180549303047218e-07),\n",
       " ('Blaublitz Akita', 1.1566327382812662e-07)]"
      ]
     },
     "execution_count": 52,
     "metadata": {},
     "output_type": "execute_result"
    }
   ],
   "source": [
    "search('Blaublitz Akita')"
   ]
  },
  {
   "cell_type": "code",
   "execution_count": 53,
   "metadata": {},
   "outputs": [
    {
     "name": "stdout",
     "output_type": "stream",
     "text": [
      "Found 1294 matches in 0.0029883384704589844 seconds\n"
     ]
    },
    {
     "data": {
      "text/plain": [
       "[('Vesle hund', inf),\n",
       " ('Chihuahua', 5.881837827315857e-07),\n",
       " ('Middelhavet', 3.675909049178139e-07),\n",
       " ('Store hund', 2.719250828363443e-07),\n",
       " ('Den lille hund', 2.6500670427313347e-07),\n",
       " ('Kategori:Store hund', 2.3006890281200476e-07),\n",
       " ('Kategori:Den lille hund', 1.995185378535444e-07),\n",
       " ('Blefjell', 1.9786135287993915e-07),\n",
       " ('Hofteleddsdysplasi', 1.7453830317081887e-07),\n",
       " ('Vesle hund', 1.5356277661287365e-07)]"
      ]
     },
     "execution_count": 53,
     "metadata": {},
     "output_type": "execute_result"
    }
   ],
   "source": [
    "search('Vesle hund')"
   ]
  },
  {
   "cell_type": "code",
   "execution_count": 54,
   "metadata": {},
   "outputs": [
    {
     "name": "stdout",
     "output_type": "stream",
     "text": [
      "Found 1294 matches in 0.2873058319091797 seconds\n"
     ]
    },
    {
     "data": {
      "text/plain": [
       "[('Den lille hund', inf),\n",
       " ('Kategori:Øverste forvaltningsenhet etter land', 1.606122590106071e-05),\n",
       " ('Kategori:Norske kirker etter prosti', 5.536431270393689e-06),\n",
       " ('Storbritannia', 3.6963229769205944e-06),\n",
       " ('Sverige', 3.468454309176283e-06),\n",
       " ('Frankrike', 3.066117966556517e-06),\n",
       " ('Kategori:Norske kirker etter bispedømme', 2.8593106648980036e-06),\n",
       " ('USA', 2.845493581383952e-06),\n",
       " ('Tyskland', 2.4990089828028465e-06),\n",
       " ('Norge', 2.212330303289179e-06)]"
      ]
     },
     "execution_count": 54,
     "metadata": {},
     "output_type": "execute_result"
    }
   ],
   "source": [
    "search('Den lille hund')"
   ]
  },
  {
   "cell_type": "code",
   "execution_count": 55,
   "metadata": {},
   "outputs": [
    {
     "name": "stdout",
     "output_type": "stream",
     "text": [
      "Found 19081 matches in 0.03494119644165039 seconds\n"
     ]
    },
    {
     "data": {
      "text/plain": [
       "[('Kina', inf),\n",
       " ('Kategori:Provinser i Kina', 5.1378359401160886e-05),\n",
       " ('Kategori:Kina', 3.70476639501291e-05),\n",
       " ('Kategori:Personer etter føde- eller oppvekststed i Kina',\n",
       "  1.8730082824141414e-05),\n",
       " ('Kategori:Distrikter i Kina', 1.6913449412822155e-05),\n",
       " ('Kina', 1.1020158144097284e-05),\n",
       " ('Kategori:Sport i Kina', 1.0826531720260328e-05),\n",
       " ('Kategori:Kinesere', 9.623589063621626e-06),\n",
       " ('Kategori:Fylker i Kina', 9.516384378200693e-06),\n",
       " ('Kategori:Byer i Kina', 9.007174677390198e-06)]"
      ]
     },
     "execution_count": 55,
     "metadata": {},
     "output_type": "execute_result"
    }
   ],
   "source": [
    "search('Kina')"
   ]
  },
  {
   "cell_type": "code",
   "execution_count": 57,
   "metadata": {},
   "outputs": [
    {
     "name": "stdout",
     "output_type": "stream",
     "text": [
      "Found 60170 matches in 2.5192596912384033 seconds\n"
     ]
    },
    {
     "data": {
      "text/plain": [
       "[('Kategori:Norges fylker', 0.0003432768079233506),\n",
       " ('Kategori:Personer etter nasjonalitet og beskjeftigelse',\n",
       "  0.00010843667956040066),\n",
       " ('Kategori:Byggverk i Norge', 7.30186237745788e-05),\n",
       " ('Kategori:Veier i Norge', 6.797478879730423e-05),\n",
       " ('Kategori:USAs delstater', 6.744832943078649e-05),\n",
       " ('Kategori:Dyr', 6.137819908233194e-05),\n",
       " ('Kategori:Provinser i Kina', 5.1378359401160886e-05),\n",
       " ('Kategori:Undernasjonale områder i Norge', 4.986158354424146e-05),\n",
       " ('Kategori:Kommuner i Norge', 4.8202622007215405e-05),\n",
       " ('Kategori:Landformer i Norge', 4.5900360057882826e-05)]"
      ]
     },
     "execution_count": 57,
     "metadata": {},
     "output_type": "execute_result"
    }
   ],
   "source": [
    "search('La oss prøve med en lang setning som inneholder ord som, Kina hund Norge Sverige USA')"
   ]
  }
 ],
 "metadata": {
  "kernelspec": {
   "display_name": "Python 3",
   "language": "python",
   "name": "python3"
  },
  "language_info": {
   "codemirror_mode": {
    "name": "ipython",
    "version": 3
   },
   "file_extension": ".py",
   "mimetype": "text/x-python",
   "name": "python",
   "nbconvert_exporter": "python",
   "pygments_lexer": "ipython3",
   "version": "3.7.1"
  }
 },
 "nbformat": 4,
 "nbformat_minor": 2
}
